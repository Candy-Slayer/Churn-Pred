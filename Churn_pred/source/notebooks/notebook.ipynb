{
 "cells": [
  {
   "cell_type": "markdown",
   "id": "3d6a83b0",
   "metadata": {},
   "source": [
    "# Libraries Importing"
   ]
  },
  {
   "cell_type": "code",
   "execution_count": 400,
   "id": "b90f0ea4",
   "metadata": {},
   "outputs": [],
   "source": [
    "import pandas as pd \n",
    "import numpy as np\n",
    "\n",
    "import matplotlib.pyplot as plt \n",
    "import seaborn as sns\n",
    "\n",
    "import joblib\n",
    "import streamlit as st \n",
    "\n",
    "from sklearn.linear_model import LinearRegression, LogisticRegression\n",
    "from sklearn.tree import DecisionTreeClassifier\n",
    "from sklearn.neighbors import KNeighborsClassifier\n",
    "from sklearn.svm import LinearSVC, SVC\n",
    "from sklearn.decomposition import PCA,KernelPCA,SparsePCA,IncrementalPCA\n",
    "from sklearn.preprocessing import StandardScaler, OneHotEncoder, LabelEncoder\n",
    "\n",
    "from sklearn.model_selection import train_test_split, StratifiedKFold, KFold, cross_val_score\n",
    "\n",
    "from sklearn.metrics import (recall_score,roc_auc_score, \n",
    "                             confusion_matrix,roc_curve,\n",
    "                             classification_report,)\n",
    "\n",
    "from imblearn.over_sampling import SMOTE\n",
    "from imblearn.under_sampling import TomekLinks\n",
    "from imblearn.combine import SMOTETomek\n",
    "from sklearn.compose import ColumnTransformer\n",
    "\n",
    "from sklearn.pipeline import Pipeline\n",
    "from sklearn.impute import SimpleImputer"
   ]
  },
  {
   "cell_type": "markdown",
   "id": "4be8e62e",
   "metadata": {},
   "source": [
    "# Loading Data"
   ]
  },
  {
   "cell_type": "code",
   "execution_count": 401,
   "id": "c7b6e858",
   "metadata": {},
   "outputs": [],
   "source": [
    "filepath = \"../assets/data/Telco.csv\"\n",
    "def getpath()->str:\n",
    "    return pd.read_csv(filepath)\n",
    "\n",
    "\n",
    "df = getpath()"
   ]
  },
  {
   "cell_type": "markdown",
   "id": "21b6db26",
   "metadata": {},
   "source": [
    "# Info About Data"
   ]
  },
  {
   "cell_type": "code",
   "execution_count": 402,
   "id": "f60357ab",
   "metadata": {},
   "outputs": [
    {
     "name": "stdout",
     "output_type": "stream",
     "text": [
      "<class 'pandas.core.frame.DataFrame'>\n",
      "RangeIndex: 7043 entries, 0 to 7042\n",
      "Data columns (total 21 columns):\n",
      " #   Column            Non-Null Count  Dtype  \n",
      "---  ------            --------------  -----  \n",
      " 0   customerID        7043 non-null   object \n",
      " 1   gender            7043 non-null   object \n",
      " 2   SeniorCitizen     7043 non-null   int64  \n",
      " 3   Partner           7043 non-null   object \n",
      " 4   Dependents        7043 non-null   object \n",
      " 5   tenure            7043 non-null   int64  \n",
      " 6   PhoneService      7043 non-null   object \n",
      " 7   MultipleLines     7043 non-null   object \n",
      " 8   InternetService   7043 non-null   object \n",
      " 9   OnlineSecurity    7043 non-null   object \n",
      " 10  OnlineBackup      7043 non-null   object \n",
      " 11  DeviceProtection  7043 non-null   object \n",
      " 12  TechSupport       7043 non-null   object \n",
      " 13  StreamingTV       7043 non-null   object \n",
      " 14  StreamingMovies   7043 non-null   object \n",
      " 15  Contract          7043 non-null   object \n",
      " 16  PaperlessBilling  7043 non-null   object \n",
      " 17  PaymentMethod     7043 non-null   object \n",
      " 18  MonthlyCharges    7043 non-null   float64\n",
      " 19  TotalCharges      7043 non-null   object \n",
      " 20  Churn             7043 non-null   object \n",
      "dtypes: float64(1), int64(2), object(18)\n",
      "memory usage: 1.1+ MB\n"
     ]
    }
   ],
   "source": [
    "df.info()"
   ]
  },
  {
   "cell_type": "code",
   "execution_count": 403,
   "id": "557f4bce",
   "metadata": {},
   "outputs": [
    {
     "data": {
      "text/html": [
       "<div>\n",
       "<style scoped>\n",
       "    .dataframe tbody tr th:only-of-type {\n",
       "        vertical-align: middle;\n",
       "    }\n",
       "\n",
       "    .dataframe tbody tr th {\n",
       "        vertical-align: top;\n",
       "    }\n",
       "\n",
       "    .dataframe thead th {\n",
       "        text-align: right;\n",
       "    }\n",
       "</style>\n",
       "<table border=\"1\" class=\"dataframe\">\n",
       "  <thead>\n",
       "    <tr style=\"text-align: right;\">\n",
       "      <th></th>\n",
       "      <th>customerID</th>\n",
       "      <th>gender</th>\n",
       "      <th>SeniorCitizen</th>\n",
       "      <th>Partner</th>\n",
       "      <th>Dependents</th>\n",
       "      <th>tenure</th>\n",
       "      <th>PhoneService</th>\n",
       "      <th>MultipleLines</th>\n",
       "      <th>InternetService</th>\n",
       "      <th>OnlineSecurity</th>\n",
       "      <th>...</th>\n",
       "      <th>DeviceProtection</th>\n",
       "      <th>TechSupport</th>\n",
       "      <th>StreamingTV</th>\n",
       "      <th>StreamingMovies</th>\n",
       "      <th>Contract</th>\n",
       "      <th>PaperlessBilling</th>\n",
       "      <th>PaymentMethod</th>\n",
       "      <th>MonthlyCharges</th>\n",
       "      <th>TotalCharges</th>\n",
       "      <th>Churn</th>\n",
       "    </tr>\n",
       "  </thead>\n",
       "  <tbody>\n",
       "    <tr>\n",
       "      <th>0</th>\n",
       "      <td>7590-VHVEG</td>\n",
       "      <td>Female</td>\n",
       "      <td>0</td>\n",
       "      <td>Yes</td>\n",
       "      <td>No</td>\n",
       "      <td>1</td>\n",
       "      <td>No</td>\n",
       "      <td>No phone service</td>\n",
       "      <td>DSL</td>\n",
       "      <td>No</td>\n",
       "      <td>...</td>\n",
       "      <td>No</td>\n",
       "      <td>No</td>\n",
       "      <td>No</td>\n",
       "      <td>No</td>\n",
       "      <td>Month-to-month</td>\n",
       "      <td>Yes</td>\n",
       "      <td>Electronic check</td>\n",
       "      <td>29.85</td>\n",
       "      <td>29.85</td>\n",
       "      <td>No</td>\n",
       "    </tr>\n",
       "    <tr>\n",
       "      <th>1</th>\n",
       "      <td>5575-GNVDE</td>\n",
       "      <td>Male</td>\n",
       "      <td>0</td>\n",
       "      <td>No</td>\n",
       "      <td>No</td>\n",
       "      <td>34</td>\n",
       "      <td>Yes</td>\n",
       "      <td>No</td>\n",
       "      <td>DSL</td>\n",
       "      <td>Yes</td>\n",
       "      <td>...</td>\n",
       "      <td>Yes</td>\n",
       "      <td>No</td>\n",
       "      <td>No</td>\n",
       "      <td>No</td>\n",
       "      <td>One year</td>\n",
       "      <td>No</td>\n",
       "      <td>Mailed check</td>\n",
       "      <td>56.95</td>\n",
       "      <td>1889.5</td>\n",
       "      <td>No</td>\n",
       "    </tr>\n",
       "    <tr>\n",
       "      <th>2</th>\n",
       "      <td>3668-QPYBK</td>\n",
       "      <td>Male</td>\n",
       "      <td>0</td>\n",
       "      <td>No</td>\n",
       "      <td>No</td>\n",
       "      <td>2</td>\n",
       "      <td>Yes</td>\n",
       "      <td>No</td>\n",
       "      <td>DSL</td>\n",
       "      <td>Yes</td>\n",
       "      <td>...</td>\n",
       "      <td>No</td>\n",
       "      <td>No</td>\n",
       "      <td>No</td>\n",
       "      <td>No</td>\n",
       "      <td>Month-to-month</td>\n",
       "      <td>Yes</td>\n",
       "      <td>Mailed check</td>\n",
       "      <td>53.85</td>\n",
       "      <td>108.15</td>\n",
       "      <td>Yes</td>\n",
       "    </tr>\n",
       "    <tr>\n",
       "      <th>3</th>\n",
       "      <td>7795-CFOCW</td>\n",
       "      <td>Male</td>\n",
       "      <td>0</td>\n",
       "      <td>No</td>\n",
       "      <td>No</td>\n",
       "      <td>45</td>\n",
       "      <td>No</td>\n",
       "      <td>No phone service</td>\n",
       "      <td>DSL</td>\n",
       "      <td>Yes</td>\n",
       "      <td>...</td>\n",
       "      <td>Yes</td>\n",
       "      <td>Yes</td>\n",
       "      <td>No</td>\n",
       "      <td>No</td>\n",
       "      <td>One year</td>\n",
       "      <td>No</td>\n",
       "      <td>Bank transfer (automatic)</td>\n",
       "      <td>42.30</td>\n",
       "      <td>1840.75</td>\n",
       "      <td>No</td>\n",
       "    </tr>\n",
       "    <tr>\n",
       "      <th>4</th>\n",
       "      <td>9237-HQITU</td>\n",
       "      <td>Female</td>\n",
       "      <td>0</td>\n",
       "      <td>No</td>\n",
       "      <td>No</td>\n",
       "      <td>2</td>\n",
       "      <td>Yes</td>\n",
       "      <td>No</td>\n",
       "      <td>Fiber optic</td>\n",
       "      <td>No</td>\n",
       "      <td>...</td>\n",
       "      <td>No</td>\n",
       "      <td>No</td>\n",
       "      <td>No</td>\n",
       "      <td>No</td>\n",
       "      <td>Month-to-month</td>\n",
       "      <td>Yes</td>\n",
       "      <td>Electronic check</td>\n",
       "      <td>70.70</td>\n",
       "      <td>151.65</td>\n",
       "      <td>Yes</td>\n",
       "    </tr>\n",
       "  </tbody>\n",
       "</table>\n",
       "<p>5 rows × 21 columns</p>\n",
       "</div>"
      ],
      "text/plain": [
       "   customerID  gender  SeniorCitizen Partner Dependents  tenure PhoneService  \\\n",
       "0  7590-VHVEG  Female              0     Yes         No       1           No   \n",
       "1  5575-GNVDE    Male              0      No         No      34          Yes   \n",
       "2  3668-QPYBK    Male              0      No         No       2          Yes   \n",
       "3  7795-CFOCW    Male              0      No         No      45           No   \n",
       "4  9237-HQITU  Female              0      No         No       2          Yes   \n",
       "\n",
       "      MultipleLines InternetService OnlineSecurity  ... DeviceProtection  \\\n",
       "0  No phone service             DSL             No  ...               No   \n",
       "1                No             DSL            Yes  ...              Yes   \n",
       "2                No             DSL            Yes  ...               No   \n",
       "3  No phone service             DSL            Yes  ...              Yes   \n",
       "4                No     Fiber optic             No  ...               No   \n",
       "\n",
       "  TechSupport StreamingTV StreamingMovies        Contract PaperlessBilling  \\\n",
       "0          No          No              No  Month-to-month              Yes   \n",
       "1          No          No              No        One year               No   \n",
       "2          No          No              No  Month-to-month              Yes   \n",
       "3         Yes          No              No        One year               No   \n",
       "4          No          No              No  Month-to-month              Yes   \n",
       "\n",
       "               PaymentMethod MonthlyCharges  TotalCharges Churn  \n",
       "0           Electronic check          29.85         29.85    No  \n",
       "1               Mailed check          56.95        1889.5    No  \n",
       "2               Mailed check          53.85        108.15   Yes  \n",
       "3  Bank transfer (automatic)          42.30       1840.75    No  \n",
       "4           Electronic check          70.70        151.65   Yes  \n",
       "\n",
       "[5 rows x 21 columns]"
      ]
     },
     "execution_count": 403,
     "metadata": {},
     "output_type": "execute_result"
    }
   ],
   "source": [
    "df.head()"
   ]
  },
  {
   "cell_type": "code",
   "execution_count": 404,
   "id": "f9a5f8d9",
   "metadata": {},
   "outputs": [
    {
     "data": {
      "text/html": [
       "<div>\n",
       "<style scoped>\n",
       "    .dataframe tbody tr th:only-of-type {\n",
       "        vertical-align: middle;\n",
       "    }\n",
       "\n",
       "    .dataframe tbody tr th {\n",
       "        vertical-align: top;\n",
       "    }\n",
       "\n",
       "    .dataframe thead th {\n",
       "        text-align: right;\n",
       "    }\n",
       "</style>\n",
       "<table border=\"1\" class=\"dataframe\">\n",
       "  <thead>\n",
       "    <tr style=\"text-align: right;\">\n",
       "      <th></th>\n",
       "      <th>customerID</th>\n",
       "      <th>gender</th>\n",
       "      <th>SeniorCitizen</th>\n",
       "      <th>Partner</th>\n",
       "      <th>Dependents</th>\n",
       "      <th>tenure</th>\n",
       "      <th>PhoneService</th>\n",
       "      <th>MultipleLines</th>\n",
       "      <th>InternetService</th>\n",
       "      <th>OnlineSecurity</th>\n",
       "      <th>...</th>\n",
       "      <th>DeviceProtection</th>\n",
       "      <th>TechSupport</th>\n",
       "      <th>StreamingTV</th>\n",
       "      <th>StreamingMovies</th>\n",
       "      <th>Contract</th>\n",
       "      <th>PaperlessBilling</th>\n",
       "      <th>PaymentMethod</th>\n",
       "      <th>MonthlyCharges</th>\n",
       "      <th>TotalCharges</th>\n",
       "      <th>Churn</th>\n",
       "    </tr>\n",
       "  </thead>\n",
       "  <tbody>\n",
       "    <tr>\n",
       "      <th>7038</th>\n",
       "      <td>6840-RESVB</td>\n",
       "      <td>Male</td>\n",
       "      <td>0</td>\n",
       "      <td>Yes</td>\n",
       "      <td>Yes</td>\n",
       "      <td>24</td>\n",
       "      <td>Yes</td>\n",
       "      <td>Yes</td>\n",
       "      <td>DSL</td>\n",
       "      <td>Yes</td>\n",
       "      <td>...</td>\n",
       "      <td>Yes</td>\n",
       "      <td>Yes</td>\n",
       "      <td>Yes</td>\n",
       "      <td>Yes</td>\n",
       "      <td>One year</td>\n",
       "      <td>Yes</td>\n",
       "      <td>Mailed check</td>\n",
       "      <td>84.80</td>\n",
       "      <td>1990.5</td>\n",
       "      <td>No</td>\n",
       "    </tr>\n",
       "    <tr>\n",
       "      <th>7039</th>\n",
       "      <td>2234-XADUH</td>\n",
       "      <td>Female</td>\n",
       "      <td>0</td>\n",
       "      <td>Yes</td>\n",
       "      <td>Yes</td>\n",
       "      <td>72</td>\n",
       "      <td>Yes</td>\n",
       "      <td>Yes</td>\n",
       "      <td>Fiber optic</td>\n",
       "      <td>No</td>\n",
       "      <td>...</td>\n",
       "      <td>Yes</td>\n",
       "      <td>No</td>\n",
       "      <td>Yes</td>\n",
       "      <td>Yes</td>\n",
       "      <td>One year</td>\n",
       "      <td>Yes</td>\n",
       "      <td>Credit card (automatic)</td>\n",
       "      <td>103.20</td>\n",
       "      <td>7362.9</td>\n",
       "      <td>No</td>\n",
       "    </tr>\n",
       "    <tr>\n",
       "      <th>7040</th>\n",
       "      <td>4801-JZAZL</td>\n",
       "      <td>Female</td>\n",
       "      <td>0</td>\n",
       "      <td>Yes</td>\n",
       "      <td>Yes</td>\n",
       "      <td>11</td>\n",
       "      <td>No</td>\n",
       "      <td>No phone service</td>\n",
       "      <td>DSL</td>\n",
       "      <td>Yes</td>\n",
       "      <td>...</td>\n",
       "      <td>No</td>\n",
       "      <td>No</td>\n",
       "      <td>No</td>\n",
       "      <td>No</td>\n",
       "      <td>Month-to-month</td>\n",
       "      <td>Yes</td>\n",
       "      <td>Electronic check</td>\n",
       "      <td>29.60</td>\n",
       "      <td>346.45</td>\n",
       "      <td>No</td>\n",
       "    </tr>\n",
       "    <tr>\n",
       "      <th>7041</th>\n",
       "      <td>8361-LTMKD</td>\n",
       "      <td>Male</td>\n",
       "      <td>1</td>\n",
       "      <td>Yes</td>\n",
       "      <td>No</td>\n",
       "      <td>4</td>\n",
       "      <td>Yes</td>\n",
       "      <td>Yes</td>\n",
       "      <td>Fiber optic</td>\n",
       "      <td>No</td>\n",
       "      <td>...</td>\n",
       "      <td>No</td>\n",
       "      <td>No</td>\n",
       "      <td>No</td>\n",
       "      <td>No</td>\n",
       "      <td>Month-to-month</td>\n",
       "      <td>Yes</td>\n",
       "      <td>Mailed check</td>\n",
       "      <td>74.40</td>\n",
       "      <td>306.6</td>\n",
       "      <td>Yes</td>\n",
       "    </tr>\n",
       "    <tr>\n",
       "      <th>7042</th>\n",
       "      <td>3186-AJIEK</td>\n",
       "      <td>Male</td>\n",
       "      <td>0</td>\n",
       "      <td>No</td>\n",
       "      <td>No</td>\n",
       "      <td>66</td>\n",
       "      <td>Yes</td>\n",
       "      <td>No</td>\n",
       "      <td>Fiber optic</td>\n",
       "      <td>Yes</td>\n",
       "      <td>...</td>\n",
       "      <td>Yes</td>\n",
       "      <td>Yes</td>\n",
       "      <td>Yes</td>\n",
       "      <td>Yes</td>\n",
       "      <td>Two year</td>\n",
       "      <td>Yes</td>\n",
       "      <td>Bank transfer (automatic)</td>\n",
       "      <td>105.65</td>\n",
       "      <td>6844.5</td>\n",
       "      <td>No</td>\n",
       "    </tr>\n",
       "  </tbody>\n",
       "</table>\n",
       "<p>5 rows × 21 columns</p>\n",
       "</div>"
      ],
      "text/plain": [
       "      customerID  gender  SeniorCitizen Partner Dependents  tenure  \\\n",
       "7038  6840-RESVB    Male              0     Yes        Yes      24   \n",
       "7039  2234-XADUH  Female              0     Yes        Yes      72   \n",
       "7040  4801-JZAZL  Female              0     Yes        Yes      11   \n",
       "7041  8361-LTMKD    Male              1     Yes         No       4   \n",
       "7042  3186-AJIEK    Male              0      No         No      66   \n",
       "\n",
       "     PhoneService     MultipleLines InternetService OnlineSecurity  ...  \\\n",
       "7038          Yes               Yes             DSL            Yes  ...   \n",
       "7039          Yes               Yes     Fiber optic             No  ...   \n",
       "7040           No  No phone service             DSL            Yes  ...   \n",
       "7041          Yes               Yes     Fiber optic             No  ...   \n",
       "7042          Yes                No     Fiber optic            Yes  ...   \n",
       "\n",
       "     DeviceProtection TechSupport StreamingTV StreamingMovies        Contract  \\\n",
       "7038              Yes         Yes         Yes             Yes        One year   \n",
       "7039              Yes          No         Yes             Yes        One year   \n",
       "7040               No          No          No              No  Month-to-month   \n",
       "7041               No          No          No              No  Month-to-month   \n",
       "7042              Yes         Yes         Yes             Yes        Two year   \n",
       "\n",
       "     PaperlessBilling              PaymentMethod MonthlyCharges  TotalCharges  \\\n",
       "7038              Yes               Mailed check          84.80        1990.5   \n",
       "7039              Yes    Credit card (automatic)         103.20        7362.9   \n",
       "7040              Yes           Electronic check          29.60        346.45   \n",
       "7041              Yes               Mailed check          74.40         306.6   \n",
       "7042              Yes  Bank transfer (automatic)         105.65        6844.5   \n",
       "\n",
       "     Churn  \n",
       "7038    No  \n",
       "7039    No  \n",
       "7040    No  \n",
       "7041   Yes  \n",
       "7042    No  \n",
       "\n",
       "[5 rows x 21 columns]"
      ]
     },
     "execution_count": 404,
     "metadata": {},
     "output_type": "execute_result"
    }
   ],
   "source": [
    "df.tail()"
   ]
  },
  {
   "cell_type": "code",
   "execution_count": 405,
   "id": "3d7b3b4a",
   "metadata": {},
   "outputs": [
    {
     "data": {
      "text/plain": [
       "(7043, 21)"
      ]
     },
     "execution_count": 405,
     "metadata": {},
     "output_type": "execute_result"
    }
   ],
   "source": [
    "df.shape"
   ]
  },
  {
   "cell_type": "code",
   "execution_count": 406,
   "id": "f1c0283a",
   "metadata": {},
   "outputs": [
    {
     "data": {
      "text/plain": [
       "customerID          7043\n",
       "gender                 2\n",
       "SeniorCitizen          2\n",
       "Partner                2\n",
       "Dependents             2\n",
       "tenure                73\n",
       "PhoneService           2\n",
       "MultipleLines          3\n",
       "InternetService        3\n",
       "OnlineSecurity         3\n",
       "OnlineBackup           3\n",
       "DeviceProtection       3\n",
       "TechSupport            3\n",
       "StreamingTV            3\n",
       "StreamingMovies        3\n",
       "Contract               3\n",
       "PaperlessBilling       2\n",
       "PaymentMethod          4\n",
       "MonthlyCharges      1585\n",
       "TotalCharges        6531\n",
       "Churn                  2\n",
       "dtype: int64"
      ]
     },
     "execution_count": 406,
     "metadata": {},
     "output_type": "execute_result"
    }
   ],
   "source": [
    "df.nunique()"
   ]
  },
  {
   "cell_type": "code",
   "execution_count": 407,
   "id": "efd4565e",
   "metadata": {},
   "outputs": [
    {
     "data": {
      "text/html": [
       "<div>\n",
       "<style scoped>\n",
       "    .dataframe tbody tr th:only-of-type {\n",
       "        vertical-align: middle;\n",
       "    }\n",
       "\n",
       "    .dataframe tbody tr th {\n",
       "        vertical-align: top;\n",
       "    }\n",
       "\n",
       "    .dataframe thead th {\n",
       "        text-align: right;\n",
       "    }\n",
       "</style>\n",
       "<table border=\"1\" class=\"dataframe\">\n",
       "  <thead>\n",
       "    <tr style=\"text-align: right;\">\n",
       "      <th></th>\n",
       "      <th>SeniorCitizen</th>\n",
       "      <th>tenure</th>\n",
       "      <th>MonthlyCharges</th>\n",
       "    </tr>\n",
       "  </thead>\n",
       "  <tbody>\n",
       "    <tr>\n",
       "      <th>count</th>\n",
       "      <td>7043.000000</td>\n",
       "      <td>7043.000000</td>\n",
       "      <td>7043.000000</td>\n",
       "    </tr>\n",
       "    <tr>\n",
       "      <th>mean</th>\n",
       "      <td>0.162147</td>\n",
       "      <td>32.371149</td>\n",
       "      <td>64.761692</td>\n",
       "    </tr>\n",
       "    <tr>\n",
       "      <th>std</th>\n",
       "      <td>0.368612</td>\n",
       "      <td>24.559481</td>\n",
       "      <td>30.090047</td>\n",
       "    </tr>\n",
       "    <tr>\n",
       "      <th>min</th>\n",
       "      <td>0.000000</td>\n",
       "      <td>0.000000</td>\n",
       "      <td>18.250000</td>\n",
       "    </tr>\n",
       "    <tr>\n",
       "      <th>25%</th>\n",
       "      <td>0.000000</td>\n",
       "      <td>9.000000</td>\n",
       "      <td>35.500000</td>\n",
       "    </tr>\n",
       "    <tr>\n",
       "      <th>50%</th>\n",
       "      <td>0.000000</td>\n",
       "      <td>29.000000</td>\n",
       "      <td>70.350000</td>\n",
       "    </tr>\n",
       "    <tr>\n",
       "      <th>75%</th>\n",
       "      <td>0.000000</td>\n",
       "      <td>55.000000</td>\n",
       "      <td>89.850000</td>\n",
       "    </tr>\n",
       "    <tr>\n",
       "      <th>max</th>\n",
       "      <td>1.000000</td>\n",
       "      <td>72.000000</td>\n",
       "      <td>118.750000</td>\n",
       "    </tr>\n",
       "  </tbody>\n",
       "</table>\n",
       "</div>"
      ],
      "text/plain": [
       "       SeniorCitizen       tenure  MonthlyCharges\n",
       "count    7043.000000  7043.000000     7043.000000\n",
       "mean        0.162147    32.371149       64.761692\n",
       "std         0.368612    24.559481       30.090047\n",
       "min         0.000000     0.000000       18.250000\n",
       "25%         0.000000     9.000000       35.500000\n",
       "50%         0.000000    29.000000       70.350000\n",
       "75%         0.000000    55.000000       89.850000\n",
       "max         1.000000    72.000000      118.750000"
      ]
     },
     "execution_count": 407,
     "metadata": {},
     "output_type": "execute_result"
    }
   ],
   "source": [
    "df.describe()"
   ]
  },
  {
   "cell_type": "code",
   "execution_count": 408,
   "id": "08a376e7",
   "metadata": {},
   "outputs": [
    {
     "data": {
      "text/plain": [
       "Index(['customerID', 'gender', 'SeniorCitizen', 'Partner', 'Dependents',\n",
       "       'tenure', 'PhoneService', 'MultipleLines', 'InternetService',\n",
       "       'OnlineSecurity', 'OnlineBackup', 'DeviceProtection', 'TechSupport',\n",
       "       'StreamingTV', 'StreamingMovies', 'Contract', 'PaperlessBilling',\n",
       "       'PaymentMethod', 'MonthlyCharges', 'TotalCharges', 'Churn'],\n",
       "      dtype='object')"
      ]
     },
     "execution_count": 408,
     "metadata": {},
     "output_type": "execute_result"
    }
   ],
   "source": [
    "df.keys()"
   ]
  },
  {
   "cell_type": "code",
   "execution_count": 409,
   "id": "7fa665bb",
   "metadata": {},
   "outputs": [
    {
     "data": {
      "text/plain": [
       "np.int64(0)"
      ]
     },
     "execution_count": 409,
     "metadata": {},
     "output_type": "execute_result"
    }
   ],
   "source": [
    "df.duplicated().sum()"
   ]
  },
  {
   "cell_type": "code",
   "execution_count": 410,
   "id": "4234fcb4",
   "metadata": {},
   "outputs": [
    {
     "data": {
      "text/plain": [
       "customerID          0\n",
       "gender              0\n",
       "SeniorCitizen       0\n",
       "Partner             0\n",
       "Dependents          0\n",
       "tenure              0\n",
       "PhoneService        0\n",
       "MultipleLines       0\n",
       "InternetService     0\n",
       "OnlineSecurity      0\n",
       "OnlineBackup        0\n",
       "DeviceProtection    0\n",
       "TechSupport         0\n",
       "StreamingTV         0\n",
       "StreamingMovies     0\n",
       "Contract            0\n",
       "PaperlessBilling    0\n",
       "PaymentMethod       0\n",
       "MonthlyCharges      0\n",
       "TotalCharges        0\n",
       "Churn               0\n",
       "dtype: int64"
      ]
     },
     "execution_count": 410,
     "metadata": {},
     "output_type": "execute_result"
    }
   ],
   "source": [
    "df.isnull().sum()"
   ]
  },
  {
   "cell_type": "markdown",
   "id": "58ea3917",
   "metadata": {},
   "source": [
    "# Data Mainpulation / Preprocessing "
   ]
  },
  {
   "cell_type": "code",
   "execution_count": 411,
   "id": "cac32278",
   "metadata": {},
   "outputs": [],
   "source": [
    "df['TotalCharges'] = pd.to_numeric(df['TotalCharges'], errors='coerce')"
   ]
  },
  {
   "cell_type": "code",
   "execution_count": 412,
   "id": "e51cb9b3",
   "metadata": {},
   "outputs": [],
   "source": [
    "df = df.drop(['customerID'], axis = 1)"
   ]
  },
  {
   "cell_type": "code",
   "execution_count": 413,
   "id": "993dee07",
   "metadata": {},
   "outputs": [
    {
     "name": "stdout",
     "output_type": "stream",
     "text": [
      "<class 'pandas.core.frame.DataFrame'>\n",
      "RangeIndex: 7043 entries, 0 to 7042\n",
      "Data columns (total 20 columns):\n",
      " #   Column            Non-Null Count  Dtype  \n",
      "---  ------            --------------  -----  \n",
      " 0   gender            7043 non-null   object \n",
      " 1   SeniorCitizen     7043 non-null   int64  \n",
      " 2   Partner           7043 non-null   object \n",
      " 3   Dependents        7043 non-null   object \n",
      " 4   tenure            7043 non-null   int64  \n",
      " 5   PhoneService      7043 non-null   object \n",
      " 6   MultipleLines     7043 non-null   object \n",
      " 7   InternetService   7043 non-null   object \n",
      " 8   OnlineSecurity    7043 non-null   object \n",
      " 9   OnlineBackup      7043 non-null   object \n",
      " 10  DeviceProtection  7043 non-null   object \n",
      " 11  TechSupport       7043 non-null   object \n",
      " 12  StreamingTV       7043 non-null   object \n",
      " 13  StreamingMovies   7043 non-null   object \n",
      " 14  Contract          7043 non-null   object \n",
      " 15  PaperlessBilling  7043 non-null   object \n",
      " 16  PaymentMethod     7043 non-null   object \n",
      " 17  MonthlyCharges    7043 non-null   float64\n",
      " 18  TotalCharges      7032 non-null   float64\n",
      " 19  Churn             7043 non-null   object \n",
      "dtypes: float64(2), int64(2), object(16)\n",
      "memory usage: 1.1+ MB\n"
     ]
    }
   ],
   "source": [
    "df.info()"
   ]
  },
  {
   "cell_type": "code",
   "execution_count": 414,
   "id": "f2936d59",
   "metadata": {},
   "outputs": [],
   "source": [
    "imputer = SimpleImputer(strategy='mean')"
   ]
  },
  {
   "cell_type": "code",
   "execution_count": 415,
   "id": "5aabc4e6",
   "metadata": {},
   "outputs": [
    {
     "data": {
      "text/plain": [
       "['SeniorCitizen', 'tenure', 'MonthlyCharges', 'TotalCharges']"
      ]
     },
     "execution_count": 415,
     "metadata": {},
     "output_type": "execute_result"
    }
   ],
   "source": [
    "num_cols = df.select_dtypes( include = ['int64','float64'] ).columns.to_list()\n",
    "num_cols"
   ]
  },
  {
   "cell_type": "code",
   "execution_count": 416,
   "id": "fc0994b3",
   "metadata": {},
   "outputs": [],
   "source": [
    "df[num_cols]= imputer.fit_transform(df[num_cols])"
   ]
  },
  {
   "cell_type": "code",
   "execution_count": 417,
   "id": "c7fcea8d",
   "metadata": {},
   "outputs": [
    {
     "data": {
      "text/plain": [
       "np.int64(0)"
      ]
     },
     "execution_count": 417,
     "metadata": {},
     "output_type": "execute_result"
    }
   ],
   "source": [
    "df.isnull().sum().sum()"
   ]
  },
  {
   "cell_type": "markdown",
   "id": "d37329d8",
   "metadata": {},
   "source": [
    "# Visualization"
   ]
  },
  {
   "cell_type": "code",
   "execution_count": 418,
   "id": "5f896d75",
   "metadata": {},
   "outputs": [
    {
     "data": {
      "image/png": "[encoded data removed]",
      "text/plain": [
       "<Figure size 2000x1000 with 4 Axes>"
      ]
     },
     "metadata": {},
     "output_type": "display_data"
    }
   ],
   "source": [
    "df.hist( bins = 50, figsize=(20,10) )\n",
    "plt.show()"
   ]
  },
  {
   "cell_type": "markdown",
   "id": "75dd51c2",
   "metadata": {},
   "source": [
    "# Correlation Matrix "
   ]
  },
  {
   "cell_type": "code",
   "execution_count": 419,
   "id": "22c38450",
   "metadata": {},
   "outputs": [
    {
     "data": {
      "text/html": [
       "<div>\n",
       "<style scoped>\n",
       "    .dataframe tbody tr th:only-of-type {\n",
       "        vertical-align: middle;\n",
       "    }\n",
       "\n",
       "    .dataframe tbody tr th {\n",
       "        vertical-align: top;\n",
       "    }\n",
       "\n",
       "    .dataframe thead th {\n",
       "        text-align: right;\n",
       "    }\n",
       "</style>\n",
       "<table border=\"1\" class=\"dataframe\">\n",
       "  <thead>\n",
       "    <tr style=\"text-align: right;\">\n",
       "      <th></th>\n",
       "      <th>SeniorCitizen</th>\n",
       "      <th>tenure</th>\n",
       "      <th>MonthlyCharges</th>\n",
       "      <th>TotalCharges</th>\n",
       "    </tr>\n",
       "  </thead>\n",
       "  <tbody>\n",
       "    <tr>\n",
       "      <th>SeniorCitizen</th>\n",
       "      <td>1.000000</td>\n",
       "      <td>0.016567</td>\n",
       "      <td>0.220173</td>\n",
       "      <td>0.102395</td>\n",
       "    </tr>\n",
       "    <tr>\n",
       "      <th>tenure</th>\n",
       "      <td>0.016567</td>\n",
       "      <td>1.000000</td>\n",
       "      <td>0.247900</td>\n",
       "      <td>0.824757</td>\n",
       "    </tr>\n",
       "    <tr>\n",
       "      <th>MonthlyCharges</th>\n",
       "      <td>0.220173</td>\n",
       "      <td>0.247900</td>\n",
       "      <td>1.000000</td>\n",
       "      <td>0.650468</td>\n",
       "    </tr>\n",
       "    <tr>\n",
       "      <th>TotalCharges</th>\n",
       "      <td>0.102395</td>\n",
       "      <td>0.824757</td>\n",
       "      <td>0.650468</td>\n",
       "      <td>1.000000</td>\n",
       "    </tr>\n",
       "  </tbody>\n",
       "</table>\n",
       "</div>"
      ],
      "text/plain": [
       "                SeniorCitizen    tenure  MonthlyCharges  TotalCharges\n",
       "SeniorCitizen        1.000000  0.016567        0.220173      0.102395\n",
       "tenure               0.016567  1.000000        0.247900      0.824757\n",
       "MonthlyCharges       0.220173  0.247900        1.000000      0.650468\n",
       "TotalCharges         0.102395  0.824757        0.650468      1.000000"
      ]
     },
     "execution_count": 419,
     "metadata": {},
     "output_type": "execute_result"
    }
   ],
   "source": [
    "corr_matrix = df[num_cols].corr()\n",
    "corr_matrix"
   ]
  },
  {
   "cell_type": "markdown",
   "id": "bab565fa",
   "metadata": {},
   "source": [
    "# Heat Map"
   ]
  },
  {
   "cell_type": "code",
   "execution_count": 420,
   "id": "fd61d312",
   "metadata": {},
   "outputs": [
    {
     "data": {
      "text/plain": [
       "<Axes: >"
      ]
     },
     "execution_count": 420,
     "metadata": {},
     "output_type": "execute_result"
    },
    {
     "data": {
      "image/png": "[encoded data removed]",
      "text/plain": [
       "<Figure size 640x480 with 2 Axes>"
      ]
     },
     "metadata": {},
     "output_type": "display_data"
    }
   ],
   "source": [
    "plt.Figure( figsize = (14,12) )\n",
    "sns.heatmap( corr_matrix, annot=True ,annot_kws={\n",
    "    \"weight\":\"bold\",\n",
    "        \"size\":10,\n",
    "                })"
   ]
  },
  {
   "cell_type": "code",
   "execution_count": 421,
   "id": "69eaf9ad",
   "metadata": {},
   "outputs": [],
   "source": [
    "Scaler=StandardScaler()\n",
    "OH = OneHotEncoder(handle_unknown='ignore')\n",
    "le = LabelEncoder()"
   ]
  },
  {
   "cell_type": "code",
   "execution_count": 422,
   "id": "e0624c0d",
   "metadata": {},
   "outputs": [],
   "source": [
    "X = df.drop('Churn',axis=1)\n",
    "y = df['Churn']"
   ]
  },
  {
   "cell_type": "code",
   "execution_count": 423,
   "id": "14db5a61",
   "metadata": {},
   "outputs": [],
   "source": [
    "cat_cols = X.select_dtypes(include=['object']).columns.tolist()"
   ]
  },
  {
   "cell_type": "code",
   "execution_count": null,
   "id": "035afc62",
   "metadata": {},
   "outputs": [],
   "source": [
    "preprocessor = ColumnTransformer([\n",
    "   ('Num', Scaler, num_cols),\n",
    "   ('Cat', OH, cat_cols)\n",
    "])"
   ]
  },
  {
   "cell_type": "markdown",
   "id": "0d60e561",
   "metadata": {},
   "source": [
    "# temp"
   ]
  },
  {
   "cell_type": "code",
   "execution_count": 425,
   "id": "e18e2838",
   "metadata": {},
   "outputs": [],
   "source": [
    "df['gender'] = df['gender'].str.strip().str.lower()"
   ]
  },
  {
   "cell_type": "markdown",
   "id": "afd56de6",
   "metadata": {},
   "source": [
    "# Splitting Data"
   ]
  },
  {
   "cell_type": "code",
   "execution_count": 426,
   "id": "4080704c",
   "metadata": {},
   "outputs": [],
   "source": [
    "y = le.fit_transform(y)"
   ]
  },
  {
   "cell_type": "code",
   "execution_count": 427,
   "id": "5ceb545b",
   "metadata": {},
   "outputs": [],
   "source": [
    "x_processed = preprocessor.fit_transform(X)"
   ]
  },
  {
   "cell_type": "code",
   "execution_count": 428,
   "id": "d371dfd7",
   "metadata": {},
   "outputs": [],
   "source": [
    "x_train, x_test, y_train, y_test = train_test_split(X, y, test_size=0.18, random_state=42, stratify=y)"
   ]
  },
  {
   "cell_type": "code",
   "execution_count": 429,
   "id": "a601f1fa",
   "metadata": {},
   "outputs": [
    {
     "data": {
      "text/plain": [
       "(5775, 1268, 5775, 1268)"
      ]
     },
     "execution_count": 429,
     "metadata": {},
     "output_type": "execute_result"
    }
   ],
   "source": [
    "X_train_processed = preprocessor.fit_transform(x_train) \n",
    "X_test_processed = preprocessor.transform(x_test)     \n",
    "\n",
    "len(x_train), len(x_test), len(y_train), len(y_test)"
   ]
  },
  {
   "cell_type": "markdown",
   "id": "5a7f1e4c",
   "metadata": {},
   "source": [
    "# Imbalanced Dataset Techniques"
   ]
  },
  {
   "cell_type": "code",
   "execution_count": 430,
   "id": "e8312815",
   "metadata": {},
   "outputs": [],
   "source": [
    "tom = TomekLinks()\n",
    "sm = SMOTE(random_state=42)\n",
    "mix = SMOTETomek(random_state=42)"
   ]
  },
  {
   "cell_type": "markdown",
   "id": "68e3025d",
   "metadata": {},
   "source": [
    "# Cross Validation Technique"
   ]
  },
  {
   "cell_type": "code",
   "execution_count": 431,
   "id": "743d3d83",
   "metadata": {},
   "outputs": [],
   "source": [
    "kf = KFold(n_splits=5, shuffle=True, random_state=42)\n",
    "s_kf = StratifiedKFold(n_splits=5, shuffle=True, random_state=42)"
   ]
  },
  {
   "cell_type": "markdown",
   "id": "c4d7d85c",
   "metadata": {},
   "source": [
    "# Train / Cross Validation / Imbalance Dataset Techniques  / Deploy"
   ]
  },
  {
   "cell_type": "code",
   "execution_count": null,
   "id": "4c6185cf",
   "metadata": {},
   "outputs": [],
   "source": [
    "def evaluate_with_resampling(technique,model):\n",
    "    x_imb, y_imb = technique.fit_resample(X_train_processed,y_train)\n",
    "    model.fit(x_imb,y_imb)\n",
    "    y_pred=model.predict(X_test_processed)\n",
    "    recall = recall_score(y_test, y_pred)\n",
    "    return recall"
   ]
  },
  {
   "cell_type": "code",
   "execution_count": null,
   "id": "e1a3ca59",
   "metadata": {},
   "outputs": [],
   "source": [
    "def create_model_pipeline(model):\n",
    "    num_transform = Pipeline([\n",
    "        ('imputer', SimpleImputer(strategy='mean')),\n",
    "        ('scaler', Scaler)\n",
    "    ])\n",
    "\n",
    "    cat_transform = Pipeline([\n",
    "        ('imputer', SimpleImputer(strategy='most_frequent')),\n",
    "        ('encoder', OH)\n",
    "    ])\n",
    "\n",
    "    model_pipeline = Pipeline([\n",
    "        ('preprocessor', preprocessor),\n",
    "        ('classifier', model)\n",
    "    ])\n",
    "    model_pipeline.fit(x_train, y_train)\n",
    "    joblib.dump(model_pipeline, \"../Model/model.pkl\")"
   ]
  },
  {
   "cell_type": "code",
   "execution_count": 524,
   "id": "dda327d0",
   "metadata": {},
   "outputs": [],
   "source": [
    "def train_and_dep(model,CV,title,deploy=False):\n",
    "    best_recall = -1\n",
    "    best_method = \"\"        \n",
    "    \n",
    "    cv_score=cross_val_score(model, X_train_processed,y_train,cv=CV)\n",
    "\n",
    "    recall=evaluate_with_resampling(tom,model)\n",
    "    print(f\"Recall for {title} using tomek:\",recall)\n",
    "    if recall > best_recall:\n",
    "        best_recall = recall\n",
    "        best_method = \"Tomek\"\n",
    "    print(\"___________________________________________________\\n\")\n",
    "\n",
    "    recall = evaluate_with_resampling(sm,model)\n",
    "    print(f\"Recall for {title} using smotes:\",recall)\n",
    "    if recall > best_recall:\n",
    "        best_recall = recall\n",
    "        best_method = \"Smote\"\n",
    "    print(\"___________________________________________________\\n\")\n",
    "    \n",
    "    recall=evaluate_with_resampling(mix,model)\n",
    "    print(f\"Recall for {title} smotetomek:\",recall)\n",
    "    if recall > best_recall:\n",
    "        best_recall = recall\n",
    "        best_method = \"Smote_Tomek\"    \n",
    "    print(\"___________________________________________________\\n\")\n",
    "   \n",
    "\n",
    "    if deploy and best_method:\n",
    "        create_model_pipeline(model)\n",
    "        le.fit(df['Churn'])\n",
    "        print(\"Model saved ✅\")\n",
    "    else:\n",
    "         pass"
   ]
  },
  {
   "cell_type": "markdown",
   "id": "ffa1f241",
   "metadata": {},
   "source": [
    "- ----------------------------------------------------------"
   ]
  },
  {
   "cell_type": "markdown",
   "id": "1b4ffb10",
   "metadata": {},
   "source": [
    "- ----------------------------------------------------------"
   ]
  },
  {
   "cell_type": "markdown",
   "id": "28235cc5",
   "metadata": {},
   "source": [
    "# SVC (non-linear)"
   ]
  },
  {
   "cell_type": "code",
   "execution_count": 435,
   "id": "1ca2f493",
   "metadata": {},
   "outputs": [],
   "source": [
    "SVC_NL1 = SVC(random_state=42,class_weight='balanced')\n",
    "SVC_NL2 = SVC(random_state=42,class_weight='balanced')\n",
    "SVC_NL3 = SVC(random_state=42,class_weight='balanced')\n",
    "SVC_NL4 = SVC(random_state=42,class_weight='balanced')\n",
    "SVC_NL5 = SVC(random_state=42,class_weight='balanced')\n",
    "\n",
    "\n",
    "SVC_NL_PCA = Pipeline([\n",
    "    ('PCA', PCA(n_components=2)),\n",
    "    ('clf',SVC_NL2)\n",
    "])\n",
    "\n",
    "SVC_NL_KPCA = Pipeline([\n",
    "    ('PCA', KernelPCA (n_components=2 , kernel='rbf', gamma= 0.5)),\n",
    "    ('clf',SVC_NL3)\n",
    "])\n",
    "\n",
    "SVC_NL_SPCA = Pipeline([\n",
    "    ('PCA',SparsePCA (n_components=2 , random_state= 42 )),\n",
    "    ('clf',SVC_NL4)\n",
    "])\n",
    "\n",
    "SVC_NL_IPCA = Pipeline([\n",
    "    ('PCA',IncrementalPCA (n_components=2 , batch_size= 10)),\n",
    "    ('clf',SVC_NL5)\n",
    "])"
   ]
  },
  {
   "cell_type": "code",
   "execution_count": 436,
   "id": "9adf517c",
   "metadata": {},
   "outputs": [
    {
     "name": "stdout",
     "output_type": "stream",
     "text": [
      "Recall for SVC (No PCA applied) using tomek: 0.7827380952380952\n",
      "___________________________________________________\n",
      "\n",
      "Recall for SVC (No PCA applied) using smotes: 0.7232142857142857\n",
      "___________________________________________________\n",
      "\n",
      "Recall for SVC (No PCA applied) smotetomek: 0.7202380952380952\n",
      "___________________________________________________\n",
      "\n"
     ]
    }
   ],
   "source": [
    "train_and_dep(SVC_NL1,kf,\"SVC (No PCA applied)\")"
   ]
  },
  {
   "cell_type": "code",
   "execution_count": 437,
   "id": "5bca4da3",
   "metadata": {},
   "outputs": [
    {
     "name": "stdout",
     "output_type": "stream",
     "text": [
      "Recall for SVC (PCA applied) using tomek: 0.7857142857142857\n",
      "___________________________________________________\n",
      "\n",
      "Recall for SVC (PCA applied) using smotes: 0.7738095238095238\n",
      "___________________________________________________\n",
      "\n",
      "Recall for SVC (PCA applied) smotetomek: 0.7738095238095238\n",
      "___________________________________________________\n",
      "\n"
     ]
    }
   ],
   "source": [
    "train_and_dep(SVC_NL_PCA,kf,\"SVC (PCA applied)\")"
   ]
  },
  {
   "cell_type": "code",
   "execution_count": 438,
   "id": "944873bc",
   "metadata": {},
   "outputs": [
    {
     "name": "stdout",
     "output_type": "stream",
     "text": [
      "Recall for SVC (Kernel PCA applied) using tomek: 0.38392857142857145\n",
      "___________________________________________________\n",
      "\n",
      "Recall for SVC (Kernel PCA applied) using smotes: 0.5089285714285714\n",
      "___________________________________________________\n",
      "\n",
      "Recall for SVC (Kernel PCA applied) smotetomek: 0.5267857142857143\n",
      "___________________________________________________\n",
      "\n"
     ]
    }
   ],
   "source": [
    "train_and_dep(SVC_NL_KPCA,kf,\"SVC (Kernel PCA applied)\")"
   ]
  },
  {
   "cell_type": "code",
   "execution_count": 440,
   "id": "5d8d09ca",
   "metadata": {},
   "outputs": [
    {
     "name": "stdout",
     "output_type": "stream",
     "text": [
      "Recall for SVC (Sparse  PCA applied) using tomek: 0.7916666666666666\n",
      "___________________________________________________\n",
      "\n",
      "Recall for SVC (Sparse  PCA applied) using smotes: 0.7738095238095238\n",
      "___________________________________________________\n",
      "\n",
      "Recall for SVC (Sparse  PCA applied) smotetomek: 0.7767857142857143\n",
      "___________________________________________________\n",
      "\n"
     ]
    }
   ],
   "source": [
    "train_and_dep(SVC_NL_SPCA,kf,\"SVC (Sparse  PCA applied)\")"
   ]
  },
  {
   "cell_type": "code",
   "execution_count": 441,
   "id": "11438838",
   "metadata": {},
   "outputs": [
    {
     "name": "stdout",
     "output_type": "stream",
     "text": [
      "Recall for SVC (Incremental PCA applied) using tomek: 0.7886904761904762\n",
      "___________________________________________________\n",
      "\n",
      "Recall for SVC (Incremental PCA applied) using smotes: 0.7738095238095238\n",
      "___________________________________________________\n",
      "\n",
      "Recall for SVC (Incremental PCA applied) smotetomek: 0.7767857142857143\n",
      "___________________________________________________\n",
      "\n"
     ]
    }
   ],
   "source": [
    "train_and_dep(SVC_NL_IPCA,kf,\"SVC (Incremental PCA applied)\")"
   ]
  },
  {
   "cell_type": "markdown",
   "id": "57e3c9b8",
   "metadata": {},
   "source": [
    "- --------------------------------------------------------------------------"
   ]
  },
  {
   "cell_type": "markdown",
   "id": "a321d1c9",
   "metadata": {},
   "source": [
    "- -------------------------------------------------------------------------"
   ]
  },
  {
   "cell_type": "code",
   "execution_count": 442,
   "id": "9b1c22c7",
   "metadata": {},
   "outputs": [
    {
     "name": "stdout",
     "output_type": "stream",
     "text": [
      "Recall for SVC (No PCA applied) using tomek: 0.7827380952380952\n",
      "___________________________________________________\n",
      "\n",
      "Recall for SVC (No PCA applied) using smotes: 0.7232142857142857\n",
      "___________________________________________________\n",
      "\n",
      "Recall for SVC (No PCA applied) smotetomek: 0.7202380952380952\n",
      "___________________________________________________\n",
      "\n"
     ]
    }
   ],
   "source": [
    "train_and_dep(SVC_NL1,s_kf,\"SVC (No PCA applied)\")"
   ]
  },
  {
   "cell_type": "code",
   "execution_count": 443,
   "id": "a066a481",
   "metadata": {},
   "outputs": [
    {
     "name": "stdout",
     "output_type": "stream",
     "text": [
      "Recall for SVC (PCA applied) using tomek: 0.7857142857142857\n",
      "___________________________________________________\n",
      "\n",
      "Recall for SVC (PCA applied) using smotes: 0.7738095238095238\n",
      "___________________________________________________\n",
      "\n",
      "Recall for SVC (PCA applied) smotetomek: 0.7738095238095238\n",
      "___________________________________________________\n",
      "\n"
     ]
    }
   ],
   "source": [
    "train_and_dep(SVC_NL_PCA,s_kf,\"SVC (PCA applied)\")"
   ]
  },
  {
   "cell_type": "code",
   "execution_count": 444,
   "id": "01702d87",
   "metadata": {},
   "outputs": [
    {
     "name": "stdout",
     "output_type": "stream",
     "text": [
      "Recall for SVC (Kernel PCA applied) using tomek: 0.38392857142857145\n",
      "___________________________________________________\n",
      "\n",
      "Recall for SVC (Kernel PCA applied) using smotes: 0.5089285714285714\n",
      "___________________________________________________\n",
      "\n",
      "Recall for SVC (Kernel PCA applied) smotetomek: 0.5267857142857143\n",
      "___________________________________________________\n",
      "\n"
     ]
    }
   ],
   "source": [
    "train_and_dep(SVC_NL_KPCA,s_kf,\"SVC (Kernel PCA applied)\")"
   ]
  },
  {
   "cell_type": "code",
   "execution_count": 445,
   "id": "9e85f87e",
   "metadata": {},
   "outputs": [
    {
     "name": "stdout",
     "output_type": "stream",
     "text": [
      "Recall for SVC (Sparse  PCA applied) using tomek: 0.7916666666666666\n",
      "___________________________________________________\n",
      "\n",
      "Recall for SVC (Sparse  PCA applied) using smotes: 0.7738095238095238\n",
      "___________________________________________________\n",
      "\n",
      "Recall for SVC (Sparse  PCA applied) smotetomek: 0.7767857142857143\n",
      "___________________________________________________\n",
      "\n"
     ]
    }
   ],
   "source": [
    "train_and_dep(SVC_NL_SPCA,s_kf,\"SVC (Sparse  PCA applied)\")"
   ]
  },
  {
   "cell_type": "code",
   "execution_count": 446,
   "id": "ccd43b4e",
   "metadata": {},
   "outputs": [
    {
     "name": "stdout",
     "output_type": "stream",
     "text": [
      "Recall for SVC (Incremental PCA applied) using tomek: 0.7886904761904762\n",
      "___________________________________________________\n",
      "\n",
      "Recall for SVC (Incremental PCA applied) using smotes: 0.7738095238095238\n",
      "___________________________________________________\n",
      "\n",
      "Recall for SVC (Incremental PCA applied) smotetomek: 0.7767857142857143\n",
      "___________________________________________________\n",
      "\n"
     ]
    }
   ],
   "source": [
    "train_and_dep(SVC_NL_IPCA,s_kf,\"SVC (Incremental PCA applied)\")"
   ]
  },
  {
   "cell_type": "markdown",
   "id": "874746d3",
   "metadata": {},
   "source": [
    "- ------------------------------------------------------------------"
   ]
  },
  {
   "cell_type": "markdown",
   "id": "686ff54b",
   "metadata": {},
   "source": [
    "- ---------------------------------------------------------------------------------"
   ]
  },
  {
   "cell_type": "markdown",
   "id": "1d975045",
   "metadata": {},
   "source": [
    "- -----------------------------------------------------------------------------------------------"
   ]
  },
  {
   "cell_type": "markdown",
   "id": "cef81d4d",
   "metadata": {},
   "source": [
    "# Linear SVC "
   ]
  },
  {
   "cell_type": "code",
   "execution_count": 447,
   "id": "306b9f39",
   "metadata": {},
   "outputs": [],
   "source": [
    "SVC_L1 =LinearSVC(class_weight='balanced') \n",
    "SVC_L2 =LinearSVC(class_weight='balanced') \n",
    "SVC_L3 =LinearSVC(class_weight='balanced') \n",
    "SVC_L4 =LinearSVC(class_weight='balanced') \n",
    "SVC_L5 =LinearSVC(class_weight='balanced') \n",
    "\n",
    "\n",
    "SVC_L_PCA = Pipeline([\n",
    "    ('PCA', PCA(n_components=2)),\n",
    "    ('clf',SVC_L2)\n",
    "])\n",
    "\n",
    "SVC_L_KPCA = Pipeline([\n",
    "    ('PCA', KernelPCA (n_components=2 , kernel='rbf', gamma= 0.5)),\n",
    "    ('clf',SVC_L3)\n",
    "])\n",
    "\n",
    "SVC_L_SPCA = Pipeline([\n",
    "    ('PCA',SparsePCA (n_components=2 , random_state= 42 )),\n",
    "    ('clf',SVC_L4)\n",
    "])\n",
    "\n",
    "SVC_L_IPCA = Pipeline([\n",
    "    ('PCA',IncrementalPCA (n_components=2 , batch_size= 10)),\n",
    "    ('clf',SVC_L5)\n",
    "])"
   ]
  },
  {
   "cell_type": "code",
   "execution_count": 448,
   "id": "57bc5293",
   "metadata": {},
   "outputs": [
    {
     "name": "stdout",
     "output_type": "stream",
     "text": [
      "Recall for Linear SVC (No PCA applied) using tomek: 0.8035714285714286\n",
      "___________________________________________________\n",
      "\n",
      "Recall for Linear SVC (No PCA applied) using smotes: 0.7767857142857143\n",
      "___________________________________________________\n",
      "\n",
      "Recall for Linear SVC (No PCA applied) smotetomek: 0.7827380952380952\n",
      "___________________________________________________\n",
      "\n"
     ]
    }
   ],
   "source": [
    "train_and_dep(SVC_L1,kf,'Linear SVC (No PCA applied)') "
   ]
  },
  {
   "cell_type": "code",
   "execution_count": 449,
   "id": "fee2db01",
   "metadata": {},
   "outputs": [
    {
     "name": "stdout",
     "output_type": "stream",
     "text": [
      "Recall for Linear SVC (PCA applied) using tomek: 0.8065476190476191\n",
      "___________________________________________________\n",
      "\n",
      "Recall for Linear SVC (PCA applied) using smotes: 0.7976190476190477\n",
      "___________________________________________________\n",
      "\n",
      "Recall for Linear SVC (PCA applied) smotetomek: 0.7976190476190477\n",
      "___________________________________________________\n",
      "\n"
     ]
    }
   ],
   "source": [
    "train_and_dep(SVC_L_PCA,kf,'Linear SVC (PCA applied)') "
   ]
  },
  {
   "cell_type": "code",
   "execution_count": 450,
   "id": "ab0e2cc8",
   "metadata": {},
   "outputs": [
    {
     "name": "stdout",
     "output_type": "stream",
     "text": [
      "Recall for Linear SVC (Kernel (rbf) PCA applied) using tomek: 0.9672619047619048\n",
      "___________________________________________________\n",
      "\n",
      "Recall for Linear SVC (Kernel (rbf) PCA applied) using smotes: 0.3125\n",
      "___________________________________________________\n",
      "\n",
      "Recall for Linear SVC (Kernel (rbf) PCA applied) smotetomek: 0.3392857142857143\n",
      "___________________________________________________\n",
      "\n"
     ]
    }
   ],
   "source": [
    "train_and_dep(SVC_L_KPCA,kf,'Linear SVC (Kernel (rbf) PCA applied)') "
   ]
  },
  {
   "cell_type": "code",
   "execution_count": 451,
   "id": "3cf60e3b",
   "metadata": {},
   "outputs": [
    {
     "name": "stdout",
     "output_type": "stream",
     "text": [
      "Recall for Linear SVC (Sparse PCA applied) using tomek: 0.8065476190476191\n",
      "___________________________________________________\n",
      "\n",
      "Recall for Linear SVC (Sparse PCA applied) using smotes: 0.7916666666666666\n",
      "___________________________________________________\n",
      "\n",
      "Recall for Linear SVC (Sparse PCA applied) smotetomek: 0.7946428571428571\n",
      "___________________________________________________\n",
      "\n"
     ]
    }
   ],
   "source": [
    "train_and_dep(SVC_L_SPCA,kf,'Linear SVC (Sparse PCA applied)') "
   ]
  },
  {
   "cell_type": "code",
   "execution_count": 452,
   "id": "77421776",
   "metadata": {},
   "outputs": [
    {
     "name": "stdout",
     "output_type": "stream",
     "text": [
      "Recall for Linear SVC (Incremental PCA applied) using tomek: 0.8035714285714286\n",
      "___________________________________________________\n",
      "\n",
      "Recall for Linear SVC (Incremental PCA applied) using smotes: 0.7946428571428571\n",
      "___________________________________________________\n",
      "\n",
      "Recall for Linear SVC (Incremental PCA applied) smotetomek: 0.7946428571428571\n",
      "___________________________________________________\n",
      "\n"
     ]
    }
   ],
   "source": [
    "train_and_dep(SVC_L_IPCA,kf,'Linear SVC (Incremental PCA applied)') "
   ]
  },
  {
   "cell_type": "markdown",
   "id": "c9012919",
   "metadata": {},
   "source": [
    "- ------------------------------------------------------------------------------------"
   ]
  },
  {
   "cell_type": "markdown",
   "id": "9816288b",
   "metadata": {},
   "source": [
    "- -------------------------------------------------------------------------------------"
   ]
  },
  {
   "cell_type": "code",
   "execution_count": 453,
   "id": "464e23a2",
   "metadata": {},
   "outputs": [
    {
     "name": "stdout",
     "output_type": "stream",
     "text": [
      "Recall for Linear SVC (No PCA applied) using tomek: 0.8035714285714286\n",
      "___________________________________________________\n",
      "\n",
      "Recall for Linear SVC (No PCA applied) using smotes: 0.7767857142857143\n",
      "___________________________________________________\n",
      "\n",
      "Recall for Linear SVC (No PCA applied) smotetomek: 0.7827380952380952\n",
      "___________________________________________________\n",
      "\n"
     ]
    }
   ],
   "source": [
    "train_and_dep(SVC_L1,s_kf,'Linear SVC (No PCA applied)') "
   ]
  },
  {
   "cell_type": "code",
   "execution_count": 454,
   "id": "2afe498f",
   "metadata": {},
   "outputs": [
    {
     "name": "stdout",
     "output_type": "stream",
     "text": [
      "Recall for Linear SVC (PCA applied) using tomek: 0.8065476190476191\n",
      "___________________________________________________\n",
      "\n",
      "Recall for Linear SVC (PCA applied) using smotes: 0.7976190476190477\n",
      "___________________________________________________\n",
      "\n",
      "Recall for Linear SVC (PCA applied) smotetomek: 0.7976190476190477\n",
      "___________________________________________________\n",
      "\n"
     ]
    }
   ],
   "source": [
    "train_and_dep(SVC_L_PCA,s_kf,'Linear SVC (PCA applied)') "
   ]
  },
  {
   "cell_type": "code",
   "execution_count": 525,
   "id": "b7bc4204",
   "metadata": {},
   "outputs": [
    {
     "name": "stdout",
     "output_type": "stream",
     "text": [
      "Recall for Linear SVC (Kernel (rbf) PCA applied) using tomek: 0.9672619047619048\n",
      "___________________________________________________\n",
      "\n",
      "Recall for Linear SVC (Kernel (rbf) PCA applied) using smotes: 0.3125\n",
      "___________________________________________________\n",
      "\n",
      "Recall for Linear SVC (Kernel (rbf) PCA applied) smotetomek: 0.3392857142857143\n",
      "___________________________________________________\n",
      "\n",
      "Model saved ✅\n"
     ]
    }
   ],
   "source": [
    "train_and_dep(SVC_L_KPCA,s_kf,'Linear SVC (Kernel (rbf) PCA applied)',deploy=True) "
   ]
  },
  {
   "cell_type": "code",
   "execution_count": 456,
   "id": "ec6c96b3",
   "metadata": {},
   "outputs": [
    {
     "name": "stdout",
     "output_type": "stream",
     "text": [
      "Recall for Linear SVC (Sparse  PCA applied) using tomek: 0.8065476190476191\n",
      "___________________________________________________\n",
      "\n",
      "Recall for Linear SVC (Sparse  PCA applied) using smotes: 0.7916666666666666\n",
      "___________________________________________________\n",
      "\n",
      "Recall for Linear SVC (Sparse  PCA applied) smotetomek: 0.7946428571428571\n",
      "___________________________________________________\n",
      "\n"
     ]
    }
   ],
   "source": [
    "train_and_dep(SVC_L_SPCA,s_kf,'Linear SVC (Sparse  PCA applied)') "
   ]
  },
  {
   "cell_type": "code",
   "execution_count": 457,
   "id": "621c1ec9",
   "metadata": {},
   "outputs": [
    {
     "name": "stdout",
     "output_type": "stream",
     "text": [
      "Recall for Linear SVC (Incremental PCA applied) using tomek: 0.8035714285714286\n",
      "___________________________________________________\n",
      "\n",
      "Recall for Linear SVC (Incremental PCA applied) using smotes: 0.7946428571428571\n",
      "___________________________________________________\n",
      "\n",
      "Recall for Linear SVC (Incremental PCA applied) smotetomek: 0.7946428571428571\n",
      "___________________________________________________\n",
      "\n"
     ]
    }
   ],
   "source": [
    "train_and_dep(SVC_L_IPCA,s_kf,'Linear SVC (Incremental PCA applied)') "
   ]
  },
  {
   "cell_type": "markdown",
   "id": "bdf29808",
   "metadata": {},
   "source": [
    "- ---------------------------------------------------------------------"
   ]
  },
  {
   "cell_type": "markdown",
   "id": "823d9181",
   "metadata": {},
   "source": [
    "- -----------------------------------------------------------------------------------------------"
   ]
  },
  {
   "cell_type": "markdown",
   "id": "26b1a80f",
   "metadata": {},
   "source": [
    "- ----------------------------------------------------------"
   ]
  },
  {
   "cell_type": "markdown",
   "id": "93bd9f34",
   "metadata": {},
   "source": [
    "# KNN"
   ]
  },
  {
   "cell_type": "code",
   "execution_count": 458,
   "id": "b1a804c8",
   "metadata": {},
   "outputs": [],
   "source": [
    "KNN1=KNeighborsClassifier(n_neighbors=5)\n",
    "KNN2=KNeighborsClassifier(n_neighbors=5)\n",
    "KNN3=KNeighborsClassifier(n_neighbors=5)\n",
    "KNN4=KNeighborsClassifier(n_neighbors=5)\n",
    "KNN5=KNeighborsClassifier(n_neighbors=5)\n",
    "\n",
    "\n",
    "KNN_PCA = Pipeline([\n",
    "    ('PCA', PCA(n_components=2)),\n",
    "    ('clf',KNN2)\n",
    "])\n",
    "\n",
    "KNN_KPCA = Pipeline([\n",
    "    ('PCA', KernelPCA (n_components=2 , kernel='rbf', gamma= 0.5)),\n",
    "    ('clf',KNN2)\n",
    "])\n",
    "\n",
    "KNN_SPCA = Pipeline([\n",
    "    ('PCA',SparsePCA (n_components=2 , random_state= 42 )),\n",
    "    ('clf',KNN2)\n",
    "])\n",
    "\n",
    "KNN_IPCA = Pipeline([\n",
    "    ('PCA',IncrementalPCA (n_components=2 , batch_size= 10)),\n",
    "    ('clf',KNN2)\n",
    "])\n"
   ]
  },
  {
   "cell_type": "code",
   "execution_count": 459,
   "id": "31749809",
   "metadata": {},
   "outputs": [
    {
     "name": "stdout",
     "output_type": "stream",
     "text": [
      "Recall for KNN (No PCA applied) using tomek: 0.6488095238095238\n",
      "___________________________________________________\n",
      "\n",
      "Recall for KNN (No PCA applied) using smotes: 0.7261904761904762\n",
      "___________________________________________________\n",
      "\n",
      "Recall for KNN (No PCA applied) smotetomek: 0.7380952380952381\n",
      "___________________________________________________\n",
      "\n"
     ]
    }
   ],
   "source": [
    "train_and_dep(KNN1, kf,\"KNN (No PCA applied)\")"
   ]
  },
  {
   "cell_type": "code",
   "execution_count": 460,
   "id": "96b52de6",
   "metadata": {},
   "outputs": [
    {
     "name": "stdout",
     "output_type": "stream",
     "text": [
      "Recall for KNN (PCA applied) using tomek: 0.5654761904761905\n",
      "___________________________________________________\n",
      "\n",
      "Recall for KNN (PCA applied) using smotes: 0.7142857142857143\n",
      "___________________________________________________\n",
      "\n",
      "Recall for KNN (PCA applied) smotetomek: 0.7202380952380952\n",
      "___________________________________________________\n",
      "\n"
     ]
    }
   ],
   "source": [
    "train_and_dep(KNN_PCA, kf,\"KNN (PCA applied)\")"
   ]
  },
  {
   "cell_type": "code",
   "execution_count": 461,
   "id": "f7f3417f",
   "metadata": {},
   "outputs": [
    {
     "name": "stdout",
     "output_type": "stream",
     "text": [
      "Recall for KNN (Kernel PCA applied) using tomek: 0.4642857142857143\n",
      "___________________________________________________\n",
      "\n",
      "Recall for KNN (Kernel PCA applied) using smotes: 0.6636904761904762\n",
      "___________________________________________________\n",
      "\n",
      "Recall for KNN (Kernel PCA applied) smotetomek: 0.6547619047619048\n",
      "___________________________________________________\n",
      "\n"
     ]
    }
   ],
   "source": [
    "train_and_dep(KNN_KPCA, kf,\"KNN (Kernel PCA applied)\")"
   ]
  },
  {
   "cell_type": "code",
   "execution_count": 462,
   "id": "b3adc873",
   "metadata": {},
   "outputs": [
    {
     "name": "stdout",
     "output_type": "stream",
     "text": [
      "Recall for KNN (Sparse PCA applied) using tomek: 0.5446428571428571\n",
      "___________________________________________________\n",
      "\n",
      "Recall for KNN (Sparse PCA applied) using smotes: 0.7321428571428571\n",
      "___________________________________________________\n",
      "\n",
      "Recall for KNN (Sparse PCA applied) smotetomek: 0.7291666666666666\n",
      "___________________________________________________\n",
      "\n"
     ]
    }
   ],
   "source": [
    "train_and_dep(KNN_SPCA, kf,\"KNN (Sparse PCA applied)\")"
   ]
  },
  {
   "cell_type": "code",
   "execution_count": 463,
   "id": "417f55d4",
   "metadata": {},
   "outputs": [
    {
     "name": "stdout",
     "output_type": "stream",
     "text": [
      "Recall for KNN (Incremental PCA applied) using tomek: 0.5625\n",
      "___________________________________________________\n",
      "\n",
      "Recall for KNN (Incremental PCA applied) using smotes: 0.7053571428571429\n",
      "___________________________________________________\n",
      "\n",
      "Recall for KNN (Incremental PCA applied) smotetomek: 0.7142857142857143\n",
      "___________________________________________________\n",
      "\n"
     ]
    }
   ],
   "source": [
    "train_and_dep(KNN_IPCA, kf,\"KNN (Incremental PCA applied)\")"
   ]
  },
  {
   "cell_type": "markdown",
   "id": "b9df7c7d",
   "metadata": {},
   "source": [
    "- -----------------------------------------------------------------------------------------"
   ]
  },
  {
   "cell_type": "markdown",
   "id": "1cb6ae3b",
   "metadata": {},
   "source": [
    "- --------------------------------------------------------------------------------"
   ]
  },
  {
   "cell_type": "code",
   "execution_count": 464,
   "id": "25dd5fb9",
   "metadata": {},
   "outputs": [
    {
     "name": "stdout",
     "output_type": "stream",
     "text": [
      "Recall for KNN (No PCA applied) using tomek: 0.6488095238095238\n",
      "___________________________________________________\n",
      "\n",
      "Recall for KNN (No PCA applied) using smotes: 0.7261904761904762\n",
      "___________________________________________________\n",
      "\n",
      "Recall for KNN (No PCA applied) smotetomek: 0.7380952380952381\n",
      "___________________________________________________\n",
      "\n"
     ]
    }
   ],
   "source": [
    "train_and_dep(KNN1, s_kf,\"KNN (No PCA applied)\")"
   ]
  },
  {
   "cell_type": "code",
   "execution_count": 465,
   "id": "e0714519",
   "metadata": {},
   "outputs": [
    {
     "name": "stdout",
     "output_type": "stream",
     "text": [
      "Recall for KNN (PCA applied) using tomek: 0.5654761904761905\n",
      "___________________________________________________\n",
      "\n",
      "Recall for KNN (PCA applied) using smotes: 0.7142857142857143\n",
      "___________________________________________________\n",
      "\n",
      "Recall for KNN (PCA applied) smotetomek: 0.7202380952380952\n",
      "___________________________________________________\n",
      "\n"
     ]
    }
   ],
   "source": [
    "train_and_dep(KNN_PCA, s_kf,\"KNN (PCA applied)\")"
   ]
  },
  {
   "cell_type": "code",
   "execution_count": 466,
   "id": "1d2904c3",
   "metadata": {},
   "outputs": [
    {
     "name": "stdout",
     "output_type": "stream",
     "text": [
      "Recall for KNN (Kernel PCA applied) using tomek: 0.4642857142857143\n",
      "___________________________________________________\n",
      "\n",
      "Recall for KNN (Kernel PCA applied) using smotes: 0.6636904761904762\n",
      "___________________________________________________\n",
      "\n",
      "Recall for KNN (Kernel PCA applied) smotetomek: 0.6547619047619048\n",
      "___________________________________________________\n",
      "\n"
     ]
    }
   ],
   "source": [
    "train_and_dep(KNN_KPCA, s_kf,\"KNN (Kernel PCA applied)\")"
   ]
  },
  {
   "cell_type": "code",
   "execution_count": 467,
   "id": "bb1b1b6c",
   "metadata": {},
   "outputs": [
    {
     "name": "stdout",
     "output_type": "stream",
     "text": [
      "Recall for KNN (Sparse PCA applied) using tomek: 0.5446428571428571\n",
      "___________________________________________________\n",
      "\n",
      "Recall for KNN (Sparse PCA applied) using smotes: 0.7321428571428571\n",
      "___________________________________________________\n",
      "\n",
      "Recall for KNN (Sparse PCA applied) smotetomek: 0.7291666666666666\n",
      "___________________________________________________\n",
      "\n"
     ]
    }
   ],
   "source": [
    "train_and_dep(KNN_SPCA, s_kf,\"KNN (Sparse PCA applied)\")"
   ]
  },
  {
   "cell_type": "code",
   "execution_count": 468,
   "id": "6d38432d",
   "metadata": {},
   "outputs": [
    {
     "name": "stdout",
     "output_type": "stream",
     "text": [
      "Recall for KNN (Incremental PCA applied) using tomek: 0.5625\n",
      "___________________________________________________\n",
      "\n",
      "Recall for KNN (Incremental PCA applied) using smotes: 0.7053571428571429\n",
      "___________________________________________________\n",
      "\n",
      "Recall for KNN (Incremental PCA applied) smotetomek: 0.7142857142857143\n",
      "___________________________________________________\n",
      "\n"
     ]
    }
   ],
   "source": [
    "train_and_dep(KNN_IPCA, s_kf,\"KNN (Incremental PCA applied)\")"
   ]
  },
  {
   "cell_type": "markdown",
   "id": "b6e8aa6d",
   "metadata": {},
   "source": [
    "- ----------------------------------------------------------"
   ]
  },
  {
   "cell_type": "markdown",
   "id": "093ae8f4",
   "metadata": {},
   "source": [
    "- ---------------------------------------------------------------------------------------"
   ]
  },
  {
   "cell_type": "markdown",
   "id": "b7420d4c",
   "metadata": {},
   "source": [
    "- ----------------------------------------------------------"
   ]
  },
  {
   "cell_type": "markdown",
   "id": "9e54c6ea",
   "metadata": {},
   "source": [
    "# Logistic "
   ]
  },
  {
   "cell_type": "code",
   "execution_count": 469,
   "id": "09fe6181",
   "metadata": {},
   "outputs": [],
   "source": [
    "LR1 = LogisticRegression(class_weight='balanced')\n",
    "LR2 = LogisticRegression(class_weight='balanced')\n",
    "LR3 = LogisticRegression(class_weight='balanced')\n",
    "LR4 = LogisticRegression(class_weight='balanced')\n",
    "LR5 = LogisticRegression(class_weight='balanced')\n",
    "\n",
    "LR_PCA = Pipeline([\n",
    "    ('PCA', PCA(n_components=2)),\n",
    "    ('clf',LR2)\n",
    "])\n",
    "\n",
    "LR_KPCA = Pipeline([\n",
    "    ('PCA', KernelPCA (n_components=2 , kernel='rbf', gamma= 0.5)),\n",
    "    ('clf',LR3)\n",
    "])\n",
    "\n",
    "LR_SPCA = Pipeline([\n",
    "    ('PCA',SparsePCA (n_components=2 , random_state= 42 )),\n",
    "    ('clf',LR4)\n",
    "])\n",
    "\n",
    "LR_IPCA = Pipeline([\n",
    "    ('PCA',IncrementalPCA (n_components=2 , batch_size= 10)),\n",
    "    ('clf',LR5)\n",
    "])"
   ]
  },
  {
   "cell_type": "code",
   "execution_count": 470,
   "id": "6c590cc2",
   "metadata": {},
   "outputs": [
    {
     "name": "stdout",
     "output_type": "stream",
     "text": [
      "Recall for Logistic (No PCA applied) using tomek: 0.8005952380952381\n",
      "___________________________________________________\n",
      "\n",
      "Recall for Logistic (No PCA applied) using smotes: 0.7767857142857143\n",
      "___________________________________________________\n",
      "\n",
      "Recall for Logistic (No PCA applied) smotetomek: 0.7767857142857143\n",
      "___________________________________________________\n",
      "\n"
     ]
    }
   ],
   "source": [
    "train_and_dep(LR1,kf,\"Logistic (No PCA applied)\")"
   ]
  },
  {
   "cell_type": "code",
   "execution_count": 471,
   "id": "13d9338a",
   "metadata": {},
   "outputs": [
    {
     "name": "stdout",
     "output_type": "stream",
     "text": [
      "Recall for Logistic (PCA applied) using tomek: 0.8065476190476191\n",
      "___________________________________________________\n",
      "\n",
      "Recall for Logistic (PCA applied) using smotes: 0.7916666666666666\n",
      "___________________________________________________\n",
      "\n",
      "Recall for Logistic (PCA applied) smotetomek: 0.7946428571428571\n",
      "___________________________________________________\n",
      "\n"
     ]
    }
   ],
   "source": [
    "train_and_dep(LR_PCA,kf,\"Logistic (PCA applied)\")"
   ]
  },
  {
   "cell_type": "code",
   "execution_count": 472,
   "id": "9212461a",
   "metadata": {},
   "outputs": [
    {
     "name": "stdout",
     "output_type": "stream",
     "text": [
      "Recall for Logistic (Kernel PCA applied) using tomek: 0.9642857142857143\n",
      "___________________________________________________\n",
      "\n",
      "Recall for Logistic (Kernel PCA applied) using smotes: 0.3482142857142857\n",
      "___________________________________________________\n",
      "\n",
      "Recall for Logistic (Kernel PCA applied) smotetomek: 0.3601190476190476\n",
      "___________________________________________________\n",
      "\n"
     ]
    }
   ],
   "source": [
    "train_and_dep(LR_KPCA,kf,\"Logistic (Kernel PCA applied)\")"
   ]
  },
  {
   "cell_type": "code",
   "execution_count": 473,
   "id": "3930f7da",
   "metadata": {},
   "outputs": [
    {
     "name": "stdout",
     "output_type": "stream",
     "text": [
      "Recall for Logistic (Sparse PCA applied) using tomek: 0.8065476190476191\n",
      "___________________________________________________\n",
      "\n",
      "Recall for Logistic (Sparse PCA applied) using smotes: 0.7886904761904762\n",
      "___________________________________________________\n",
      "\n",
      "Recall for Logistic (Sparse PCA applied) smotetomek: 0.7946428571428571\n",
      "___________________________________________________\n",
      "\n"
     ]
    }
   ],
   "source": [
    "train_and_dep(LR_SPCA,kf,\"Logistic (Sparse PCA applied)\")"
   ]
  },
  {
   "cell_type": "code",
   "execution_count": 474,
   "id": "de77f5bf",
   "metadata": {},
   "outputs": [
    {
     "name": "stdout",
     "output_type": "stream",
     "text": [
      "Recall for Logistic (Incremental PCA applied) using tomek: 0.8065476190476191\n",
      "___________________________________________________\n",
      "\n",
      "Recall for Logistic (Incremental PCA applied) using smotes: 0.7857142857142857\n",
      "___________________________________________________\n",
      "\n",
      "Recall for Logistic (Incremental PCA applied) smotetomek: 0.7886904761904762\n",
      "___________________________________________________\n",
      "\n"
     ]
    }
   ],
   "source": [
    "train_and_dep(LR_IPCA,kf,\"Logistic (Incremental PCA applied)\")"
   ]
  },
  {
   "cell_type": "markdown",
   "id": "3860b8a4",
   "metadata": {},
   "source": [
    "- --------------------------------------------------------------------------------------------"
   ]
  },
  {
   "cell_type": "markdown",
   "id": "19be3ec3",
   "metadata": {},
   "source": [
    "- ----------------------------------------------------------------------"
   ]
  },
  {
   "cell_type": "code",
   "execution_count": 475,
   "id": "24749df5",
   "metadata": {},
   "outputs": [
    {
     "name": "stdout",
     "output_type": "stream",
     "text": [
      "Recall for Logistic (No PCA applied) using tomek: 0.8005952380952381\n",
      "___________________________________________________\n",
      "\n",
      "Recall for Logistic (No PCA applied) using smotes: 0.7767857142857143\n",
      "___________________________________________________\n",
      "\n",
      "Recall for Logistic (No PCA applied) smotetomek: 0.7767857142857143\n",
      "___________________________________________________\n",
      "\n"
     ]
    }
   ],
   "source": [
    "train_and_dep(LR1,s_kf,\"Logistic (No PCA applied)\")"
   ]
  },
  {
   "cell_type": "code",
   "execution_count": 476,
   "id": "1fc73a38",
   "metadata": {},
   "outputs": [
    {
     "name": "stdout",
     "output_type": "stream",
     "text": [
      "Recall for Logistic (PCA applied) using tomek: 0.8065476190476191\n",
      "___________________________________________________\n",
      "\n",
      "Recall for Logistic (PCA applied) using smotes: 0.7916666666666666\n",
      "___________________________________________________\n",
      "\n",
      "Recall for Logistic (PCA applied) smotetomek: 0.7946428571428571\n",
      "___________________________________________________\n",
      "\n"
     ]
    }
   ],
   "source": [
    "train_and_dep(LR_PCA,s_kf,\"Logistic (PCA applied)\")"
   ]
  },
  {
   "cell_type": "code",
   "execution_count": 477,
   "id": "4be87fb0",
   "metadata": {},
   "outputs": [
    {
     "name": "stdout",
     "output_type": "stream",
     "text": [
      "Recall for Logistic (Kernel PCA applied) using tomek: 0.9642857142857143\n",
      "___________________________________________________\n",
      "\n",
      "Recall for Logistic (Kernel PCA applied) using smotes: 0.3482142857142857\n",
      "___________________________________________________\n",
      "\n",
      "Recall for Logistic (Kernel PCA applied) smotetomek: 0.3601190476190476\n",
      "___________________________________________________\n",
      "\n"
     ]
    }
   ],
   "source": [
    "train_and_dep(LR_KPCA,s_kf,\"Logistic (Kernel PCA applied)\")"
   ]
  },
  {
   "cell_type": "code",
   "execution_count": 478,
   "id": "ee0c55b8",
   "metadata": {},
   "outputs": [
    {
     "name": "stdout",
     "output_type": "stream",
     "text": [
      "Recall for Logistic (Sparse PCA applied) using tomek: 0.8065476190476191\n",
      "___________________________________________________\n",
      "\n",
      "Recall for Logistic (Sparse PCA applied) using smotes: 0.7886904761904762\n",
      "___________________________________________________\n",
      "\n",
      "Recall for Logistic (Sparse PCA applied) smotetomek: 0.7946428571428571\n",
      "___________________________________________________\n",
      "\n"
     ]
    }
   ],
   "source": [
    "train_and_dep(LR_SPCA,s_kf,\"Logistic (Sparse PCA applied)\")"
   ]
  },
  {
   "cell_type": "code",
   "execution_count": 479,
   "id": "56c7487e",
   "metadata": {},
   "outputs": [
    {
     "name": "stdout",
     "output_type": "stream",
     "text": [
      "Recall for Logistic (Incremental PCA applied) using tomek: 0.8065476190476191\n",
      "___________________________________________________\n",
      "\n",
      "Recall for Logistic (Incremental PCA applied) using smotes: 0.7857142857142857\n",
      "___________________________________________________\n",
      "\n",
      "Recall for Logistic (Incremental PCA applied) smotetomek: 0.7886904761904762\n",
      "___________________________________________________\n",
      "\n"
     ]
    }
   ],
   "source": [
    "train_and_dep(LR_IPCA,s_kf,\"Logistic (Incremental PCA applied)\")"
   ]
  },
  {
   "cell_type": "markdown",
   "id": "eaf808ec",
   "metadata": {},
   "source": [
    "- ----------------------------------------------------------"
   ]
  },
  {
   "cell_type": "markdown",
   "id": "6dbe54e1",
   "metadata": {},
   "source": [
    "- --------------------------------------------------------------------"
   ]
  },
  {
   "cell_type": "markdown",
   "id": "e8e4d552",
   "metadata": {},
   "source": [
    "- ----------------------------------------------------------"
   ]
  },
  {
   "cell_type": "markdown",
   "id": "f05b4ae3",
   "metadata": {},
   "source": [
    "# Decision Tree ( entropy )"
   ]
  },
  {
   "cell_type": "code",
   "execution_count": 480,
   "id": "1924fcf6",
   "metadata": {},
   "outputs": [],
   "source": [
    "D_T_E1 = DecisionTreeClassifier(criterion='entropy',max_depth=3, random_state=42)\n",
    "D_T_E2 = DecisionTreeClassifier(criterion='entropy',max_depth=3, random_state=42)\n",
    "D_T_E3 = DecisionTreeClassifier(criterion='entropy',max_depth=3, random_state=42)\n",
    "D_T_E4 = DecisionTreeClassifier(criterion='entropy',max_depth=3, random_state=42)\n",
    "D_T_E5 = DecisionTreeClassifier(criterion='entropy',max_depth=3, random_state=42)\n",
    "\n",
    "\n",
    "\n",
    "D_T_E_PCA = Pipeline([\n",
    "    ('PCA', PCA(n_components=2)),\n",
    "    ('clf',D_T_E2)\n",
    "])\n",
    "\n",
    "D_T_E_KPCA = Pipeline([\n",
    "    ('PCA', KernelPCA (n_components=2 , kernel='rbf', gamma= 0.5)),\n",
    "    ('clf',D_T_E3)\n",
    "])\n",
    "\n",
    "D_T_E_SPCA = Pipeline([\n",
    "    ('PCA',SparsePCA (n_components=2 , random_state= 42 )),\n",
    "    ('clf',D_T_E4)\n",
    "])\n",
    "\n",
    "D_T_E_IPCA = Pipeline([\n",
    "    ('PCA',IncrementalPCA (n_components=2)),\n",
    "    ('clf',D_T_E5)\n",
    "])"
   ]
  },
  {
   "cell_type": "code",
   "execution_count": 481,
   "id": "8688467e",
   "metadata": {},
   "outputs": [
    {
     "name": "stdout",
     "output_type": "stream",
     "text": [
      "Recall for Decision Tree (entropy) (No PCA applied) using tomek: 0.35714285714285715\n",
      "___________________________________________________\n",
      "\n",
      "Recall for Decision Tree (entropy) (No PCA applied) using smotes: 0.7440476190476191\n",
      "___________________________________________________\n",
      "\n",
      "Recall for Decision Tree (entropy) (No PCA applied) smotetomek: 0.7440476190476191\n",
      "___________________________________________________\n",
      "\n"
     ]
    }
   ],
   "source": [
    "train_and_dep(D_T_E1,kf,\"Decision Tree (entropy) (No PCA applied)\")"
   ]
  },
  {
   "cell_type": "code",
   "execution_count": 482,
   "id": "060b5891",
   "metadata": {},
   "outputs": [
    {
     "name": "stdout",
     "output_type": "stream",
     "text": [
      "Recall for Decision Tree (entropy) (PCA applied) using tomek: 0.5416666666666666\n",
      "___________________________________________________\n",
      "\n",
      "Recall for Decision Tree (entropy) (PCA applied) using smotes: 0.7232142857142857\n",
      "___________________________________________________\n",
      "\n",
      "Recall for Decision Tree (entropy) (PCA applied) smotetomek: 0.6875\n",
      "___________________________________________________\n",
      "\n"
     ]
    }
   ],
   "source": [
    "train_and_dep(D_T_E_PCA,kf,\"Decision Tree (entropy) (PCA applied)\")"
   ]
  },
  {
   "cell_type": "code",
   "execution_count": 483,
   "id": "a705b1ae",
   "metadata": {},
   "outputs": [
    {
     "name": "stdout",
     "output_type": "stream",
     "text": [
      "Recall for Decision Tree (entropy) (Kernel PCA applied) using tomek: 0.27976190476190477\n",
      "___________________________________________________\n",
      "\n",
      "Recall for Decision Tree (entropy) (Kernel PCA applied) using smotes: 0.6577380952380952\n",
      "___________________________________________________\n",
      "\n",
      "Recall for Decision Tree (entropy) (Kernel PCA applied) smotetomek: 0.6696428571428571\n",
      "___________________________________________________\n",
      "\n"
     ]
    }
   ],
   "source": [
    "train_and_dep(D_T_E_KPCA,kf,\"Decision Tree (entropy) (Kernel PCA applied)\")"
   ]
  },
  {
   "cell_type": "code",
   "execution_count": 484,
   "id": "cf2b3714",
   "metadata": {},
   "outputs": [
    {
     "name": "stdout",
     "output_type": "stream",
     "text": [
      "Recall for Decision Tree (entropy) (Sparse PCA applied) using tomek: 0.6101190476190477\n",
      "___________________________________________________\n",
      "\n",
      "Recall for Decision Tree (entropy) (Sparse PCA applied) using smotes: 0.7261904761904762\n",
      "___________________________________________________\n",
      "\n",
      "Recall for Decision Tree (entropy) (Sparse PCA applied) smotetomek: 0.6875\n",
      "___________________________________________________\n",
      "\n"
     ]
    }
   ],
   "source": [
    "train_and_dep(D_T_E_SPCA,kf,\"Decision Tree (entropy) (Sparse PCA applied)\")"
   ]
  },
  {
   "cell_type": "code",
   "execution_count": 485,
   "id": "25a716ff",
   "metadata": {},
   "outputs": [
    {
     "name": "stdout",
     "output_type": "stream",
     "text": [
      "Recall for Decision Tree (entropy) (Incremental PCA applied) using tomek: 0.5446428571428571\n",
      "___________________________________________________\n",
      "\n",
      "Recall for Decision Tree (entropy) (Incremental PCA applied) using smotes: 0.7232142857142857\n",
      "___________________________________________________\n",
      "\n",
      "Recall for Decision Tree (entropy) (Incremental PCA applied) smotetomek: 0.7202380952380952\n",
      "___________________________________________________\n",
      "\n"
     ]
    }
   ],
   "source": [
    "train_and_dep(D_T_E_IPCA,kf,\"Decision Tree (entropy) (Incremental PCA applied)\")"
   ]
  },
  {
   "cell_type": "markdown",
   "id": "4aaa2284",
   "metadata": {},
   "source": [
    "- -------------------------------------------------------------------------------"
   ]
  },
  {
   "cell_type": "markdown",
   "id": "83de0b69",
   "metadata": {},
   "source": [
    "- ---------------------------------------------------------------------------------------"
   ]
  },
  {
   "cell_type": "code",
   "execution_count": 486,
   "id": "b401a4fa",
   "metadata": {},
   "outputs": [
    {
     "name": "stdout",
     "output_type": "stream",
     "text": [
      "Recall for Decision Tree (entropy) (No PCA applied) using tomek: 0.35714285714285715\n",
      "___________________________________________________\n",
      "\n",
      "Recall for Decision Tree (entropy) (No PCA applied) using smotes: 0.7440476190476191\n",
      "___________________________________________________\n",
      "\n",
      "Recall for Decision Tree (entropy) (No PCA applied) smotetomek: 0.7440476190476191\n",
      "___________________________________________________\n",
      "\n"
     ]
    }
   ],
   "source": [
    "train_and_dep(D_T_E1,s_kf,\"Decision Tree (entropy) (No PCA applied)\")"
   ]
  },
  {
   "cell_type": "code",
   "execution_count": 487,
   "id": "dc30f87f",
   "metadata": {},
   "outputs": [
    {
     "name": "stdout",
     "output_type": "stream",
     "text": [
      "Recall for Decision Tree (entropy) (PCA applied) using tomek: 0.5416666666666666\n",
      "___________________________________________________\n",
      "\n",
      "Recall for Decision Tree (entropy) (PCA applied) using smotes: 0.7232142857142857\n",
      "___________________________________________________\n",
      "\n",
      "Recall for Decision Tree (entropy) (PCA applied) smotetomek: 0.6875\n",
      "___________________________________________________\n",
      "\n"
     ]
    }
   ],
   "source": [
    "train_and_dep(D_T_E_PCA,s_kf,\"Decision Tree (entropy) (PCA applied)\")"
   ]
  },
  {
   "cell_type": "code",
   "execution_count": 488,
   "id": "27ad7e3b",
   "metadata": {},
   "outputs": [
    {
     "name": "stdout",
     "output_type": "stream",
     "text": [
      "Recall for Decision Tree (entropy) (Kernel PCA applied) using tomek: 0.27976190476190477\n",
      "___________________________________________________\n",
      "\n",
      "Recall for Decision Tree (entropy) (Kernel PCA applied) using smotes: 0.6577380952380952\n",
      "___________________________________________________\n",
      "\n",
      "Recall for Decision Tree (entropy) (Kernel PCA applied) smotetomek: 0.6696428571428571\n",
      "___________________________________________________\n",
      "\n"
     ]
    }
   ],
   "source": [
    "train_and_dep(D_T_E_KPCA,s_kf,\"Decision Tree (entropy) (Kernel PCA applied)\")"
   ]
  },
  {
   "cell_type": "code",
   "execution_count": 489,
   "id": "977f30a7",
   "metadata": {},
   "outputs": [
    {
     "name": "stdout",
     "output_type": "stream",
     "text": [
      "Recall for Decision Tree (entropy) (Sparse PCA applied) using tomek: 0.6101190476190477\n",
      "___________________________________________________\n",
      "\n",
      "Recall for Decision Tree (entropy) (Sparse PCA applied) using smotes: 0.7261904761904762\n",
      "___________________________________________________\n",
      "\n",
      "Recall for Decision Tree (entropy) (Sparse PCA applied) smotetomek: 0.6875\n",
      "___________________________________________________\n",
      "\n"
     ]
    }
   ],
   "source": [
    "train_and_dep(D_T_E_SPCA,s_kf,\"Decision Tree (entropy) (Sparse PCA applied)\")"
   ]
  },
  {
   "cell_type": "code",
   "execution_count": 490,
   "id": "daccabee",
   "metadata": {},
   "outputs": [
    {
     "name": "stdout",
     "output_type": "stream",
     "text": [
      "Recall for Decision Tree (entropy) (Incremental PCA applied) using tomek: 0.5446428571428571\n",
      "___________________________________________________\n",
      "\n",
      "Recall for Decision Tree (entropy) (Incremental PCA applied) using smotes: 0.7232142857142857\n",
      "___________________________________________________\n",
      "\n",
      "Recall for Decision Tree (entropy) (Incremental PCA applied) smotetomek: 0.7202380952380952\n",
      "___________________________________________________\n",
      "\n"
     ]
    }
   ],
   "source": [
    "train_and_dep(D_T_E_IPCA,s_kf,\"Decision Tree (entropy) (Incremental PCA applied)\")"
   ]
  },
  {
   "cell_type": "markdown",
   "id": "55def4c9",
   "metadata": {},
   "source": [
    "- ----------------------------------------------------------"
   ]
  },
  {
   "cell_type": "markdown",
   "id": "d5d01520",
   "metadata": {},
   "source": [
    "- --------------------------------------------------------------------------------------------"
   ]
  },
  {
   "cell_type": "markdown",
   "id": "aea340fc",
   "metadata": {},
   "source": [
    "- ----------------------------------------------------------"
   ]
  },
  {
   "cell_type": "markdown",
   "id": "243b609c",
   "metadata": {},
   "source": [
    "# Decision Tree ( gini )"
   ]
  },
  {
   "cell_type": "code",
   "execution_count": 491,
   "id": "6adf5a1d",
   "metadata": {},
   "outputs": [],
   "source": [
    "D_T_G1 = DecisionTreeClassifier(criterion='gini',max_depth=3, random_state=42)\n",
    "D_T_G2 = DecisionTreeClassifier(criterion='gini',max_depth=3, random_state=42)\n",
    "D_T_G3 = DecisionTreeClassifier(criterion='gini',max_depth=3, random_state=42)\n",
    "D_T_G4 = DecisionTreeClassifier(criterion='gini',max_depth=3, random_state=42)\n",
    "D_T_G5 = DecisionTreeClassifier(criterion='gini',max_depth=3, random_state=42)\n",
    "\n",
    "\n",
    "D_T_G_PCA = Pipeline([\n",
    "    ('PCA', PCA(n_components=2)),\n",
    "    ('clf',D_T_G2)\n",
    "])\n",
    "\n",
    "D_T_G_KPCA = Pipeline([\n",
    "    ('PCA', KernelPCA (n_components=2 , kernel='rbf', gamma= 0.5)),\n",
    "    ('clf',D_T_G3)\n",
    "])\n",
    "\n",
    "D_T_G_SPCA = Pipeline([\n",
    "    ('PCA',SparsePCA (n_components=2 , random_state= 42 )),\n",
    "    ('clf',D_T_G4)\n",
    "])\n",
    "\n",
    "D_T_G_IPCA = Pipeline([\n",
    "    ('PCA',IncrementalPCA (n_components=2 , batch_size= 10)),\n",
    "    ('clf',D_T_G5)\n",
    "])"
   ]
  },
  {
   "cell_type": "code",
   "execution_count": 492,
   "id": "0d5764cd",
   "metadata": {},
   "outputs": [
    {
     "name": "stdout",
     "output_type": "stream",
     "text": [
      "Recall for Decision Tree (gini) (No PCA applied) using tomek: 0.35714285714285715\n",
      "___________________________________________________\n",
      "\n",
      "Recall for Decision Tree (gini) (No PCA applied) using smotes: 0.7440476190476191\n",
      "___________________________________________________\n",
      "\n",
      "Recall for Decision Tree (gini) (No PCA applied) smotetomek: 0.7440476190476191\n",
      "___________________________________________________\n",
      "\n"
     ]
    }
   ],
   "source": [
    "train_and_dep(D_T_G1,kf,\"Decision Tree (gini) (No PCA applied)\")"
   ]
  },
  {
   "cell_type": "code",
   "execution_count": 493,
   "id": "33c932a9",
   "metadata": {},
   "outputs": [
    {
     "name": "stdout",
     "output_type": "stream",
     "text": [
      "Recall for Decision Tree (gini) (PCA applied) using tomek: 0.5297619047619048\n",
      "___________________________________________________\n",
      "\n",
      "Recall for Decision Tree (gini) (PCA applied) using smotes: 0.7232142857142857\n",
      "___________________________________________________\n",
      "\n",
      "Recall for Decision Tree (gini) (PCA applied) smotetomek: 0.6875\n",
      "___________________________________________________\n",
      "\n"
     ]
    }
   ],
   "source": [
    "train_and_dep(D_T_G_PCA,kf,\"Decision Tree (gini) (PCA applied)\")"
   ]
  },
  {
   "cell_type": "code",
   "execution_count": 494,
   "id": "2a8921d3",
   "metadata": {},
   "outputs": [
    {
     "name": "stdout",
     "output_type": "stream",
     "text": [
      "Recall for Decision Tree (gini) (Kernel PCA applied) using tomek: 0.27976190476190477\n",
      "___________________________________________________\n",
      "\n",
      "Recall for Decision Tree (gini) (Kernel PCA applied) using smotes: 0.6577380952380952\n",
      "___________________________________________________\n",
      "\n",
      "Recall for Decision Tree (gini) (Kernel PCA applied) smotetomek: 0.6696428571428571\n",
      "___________________________________________________\n",
      "\n"
     ]
    }
   ],
   "source": [
    "train_and_dep(D_T_G_KPCA,kf,\"Decision Tree (gini) (Kernel PCA applied)\")"
   ]
  },
  {
   "cell_type": "code",
   "execution_count": 495,
   "id": "436aab6b",
   "metadata": {},
   "outputs": [
    {
     "name": "stdout",
     "output_type": "stream",
     "text": [
      "Recall for Decision Tree (gini) (Sparse PCA applied) using tomek: 0.6101190476190477\n",
      "___________________________________________________\n",
      "\n",
      "Recall for Decision Tree (gini) (Sparse PCA applied) using smotes: 0.7261904761904762\n",
      "___________________________________________________\n",
      "\n",
      "Recall for Decision Tree (gini) (Sparse PCA applied) smotetomek: 0.6875\n",
      "___________________________________________________\n",
      "\n"
     ]
    }
   ],
   "source": [
    "train_and_dep(D_T_G_SPCA,kf,\"Decision Tree (gini) (Sparse PCA applied)\")"
   ]
  },
  {
   "cell_type": "code",
   "execution_count": 496,
   "id": "b6db9f27",
   "metadata": {},
   "outputs": [
    {
     "name": "stdout",
     "output_type": "stream",
     "text": [
      "Recall for Decision Tree (gini) (Incremental PCA applied) using tomek: 0.5267857142857143\n",
      "___________________________________________________\n",
      "\n",
      "Recall for Decision Tree (gini) (Incremental PCA applied) using smotes: 0.7232142857142857\n",
      "___________________________________________________\n",
      "\n",
      "Recall for Decision Tree (gini) (Incremental PCA applied) smotetomek: 0.7172619047619048\n",
      "___________________________________________________\n",
      "\n"
     ]
    }
   ],
   "source": [
    "train_and_dep(D_T_G_IPCA,kf,\"Decision Tree (gini) (Incremental PCA applied)\")"
   ]
  },
  {
   "cell_type": "markdown",
   "id": "68f030d2",
   "metadata": {},
   "source": [
    "- ----------------------------------------------------------------------"
   ]
  },
  {
   "cell_type": "markdown",
   "id": "34e00cd7",
   "metadata": {},
   "source": [
    "- --------------------------------------------------------------------------"
   ]
  },
  {
   "cell_type": "code",
   "execution_count": 497,
   "id": "7b8722d9",
   "metadata": {},
   "outputs": [
    {
     "name": "stdout",
     "output_type": "stream",
     "text": [
      "Recall for Decision Tree (gini) (No PCA applied) using tomek: 0.35714285714285715\n",
      "___________________________________________________\n",
      "\n",
      "Recall for Decision Tree (gini) (No PCA applied) using smotes: 0.7440476190476191\n",
      "___________________________________________________\n",
      "\n",
      "Recall for Decision Tree (gini) (No PCA applied) smotetomek: 0.7440476190476191\n",
      "___________________________________________________\n",
      "\n"
     ]
    }
   ],
   "source": [
    "train_and_dep(D_T_G1,s_kf,\"Decision Tree (gini) (No PCA applied)\")"
   ]
  },
  {
   "cell_type": "code",
   "execution_count": 498,
   "id": "4514fc33",
   "metadata": {},
   "outputs": [
    {
     "name": "stdout",
     "output_type": "stream",
     "text": [
      "Recall for Decision Tree (gini) (PCA applied) using tomek: 0.5297619047619048\n",
      "___________________________________________________\n",
      "\n",
      "Recall for Decision Tree (gini) (PCA applied) using smotes: 0.7232142857142857\n",
      "___________________________________________________\n",
      "\n",
      "Recall for Decision Tree (gini) (PCA applied) smotetomek: 0.6875\n",
      "___________________________________________________\n",
      "\n"
     ]
    }
   ],
   "source": [
    "train_and_dep(D_T_G_PCA,s_kf,\"Decision Tree (gini) (PCA applied)\")"
   ]
  },
  {
   "cell_type": "code",
   "execution_count": 499,
   "id": "7f861d75",
   "metadata": {},
   "outputs": [
    {
     "name": "stdout",
     "output_type": "stream",
     "text": [
      "Recall for Decision Tree (gini) (Kernel PCA applied) using tomek: 0.27976190476190477\n",
      "___________________________________________________\n",
      "\n",
      "Recall for Decision Tree (gini) (Kernel PCA applied) using smotes: 0.6577380952380952\n",
      "___________________________________________________\n",
      "\n",
      "Recall for Decision Tree (gini) (Kernel PCA applied) smotetomek: 0.6696428571428571\n",
      "___________________________________________________\n",
      "\n"
     ]
    }
   ],
   "source": [
    "train_and_dep(D_T_G_KPCA,s_kf,\"Decision Tree (gini) (Kernel PCA applied)\")"
   ]
  },
  {
   "cell_type": "code",
   "execution_count": 500,
   "id": "de8063e1",
   "metadata": {},
   "outputs": [
    {
     "name": "stdout",
     "output_type": "stream",
     "text": [
      "Recall for Decision Tree (gini) (Sparse PCA applied) using tomek: 0.6101190476190477\n",
      "___________________________________________________\n",
      "\n",
      "Recall for Decision Tree (gini) (Sparse PCA applied) using smotes: 0.7261904761904762\n",
      "___________________________________________________\n",
      "\n",
      "Recall for Decision Tree (gini) (Sparse PCA applied) smotetomek: 0.6875\n",
      "___________________________________________________\n",
      "\n"
     ]
    }
   ],
   "source": [
    "train_and_dep(D_T_G_SPCA,s_kf,\"Decision Tree (gini) (Sparse PCA applied)\")"
   ]
  },
  {
   "cell_type": "code",
   "execution_count": 501,
   "id": "32b31375",
   "metadata": {},
   "outputs": [
    {
     "name": "stdout",
     "output_type": "stream",
     "text": [
      "Recall for Decision Tree (gini) (Incremental PCA applied) using tomek: 0.5267857142857143\n",
      "___________________________________________________\n",
      "\n",
      "Recall for Decision Tree (gini) (Incremental PCA applied) using smotes: 0.7232142857142857\n",
      "___________________________________________________\n",
      "\n",
      "Recall for Decision Tree (gini) (Incremental PCA applied) smotetomek: 0.7172619047619048\n",
      "___________________________________________________\n",
      "\n"
     ]
    }
   ],
   "source": [
    "train_and_dep(D_T_G_IPCA,s_kf,\"Decision Tree (gini) (Incremental PCA applied)\")"
   ]
  }
 ],
 "metadata": {
  "kernelspec": {
   "display_name": "selenium",
   "language": "python",
   "name": "python3"
  },
  "language_info": {
   "codemirror_mode": {
    "name": "ipython",
    "version": 3
   },
   "file_extension": ".py",
   "mimetype": "text/x-python",
   "name": "python",
   "nbconvert_exporter": "python",
   "pygments_lexer": "ipython3",
   "version": "3.13.5"
  }
 },
 "nbformat": 4,
 "nbformat_minor": 5
}
